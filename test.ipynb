{
 "cells": [
  {
   "cell_type": "code",
   "id": "initial_id",
   "metadata": {
    "collapsed": true,
    "ExecuteTime": {
     "end_time": "2025-07-09T12:37:32.842023Z",
     "start_time": "2025-07-09T12:37:32.276481Z"
    }
   },
   "source": [
    "import pandas as pd\n",
    "import numpy as np\n"
   ],
   "outputs": [],
   "execution_count": 1
  },
  {
   "metadata": {
    "ExecuteTime": {
     "end_time": "2025-07-09T12:37:47.152701Z",
     "start_time": "2025-07-09T12:37:46.885539Z"
    }
   },
   "cell_type": "code",
   "source": [
    "df = pd.read_csv(\"generations_example.csv\")\n",
    "df.head()"
   ],
   "id": "8349990c92070caa",
   "outputs": [
    {
     "data": {
      "text/plain": [
       "                                              prompt  \\\n",
       "0  <|im_start|>user\\nhow sveltekit create entry-s...   \n",
       "1  <|im_start|>user\\nhow sveltekit create entry-s...   \n",
       "2  <|im_start|>user\\nhow sveltekit create entry-s...   \n",
       "3  <|im_start|>user\\nhow sveltekit create entry-s...   \n",
       "4  <|im_start|>user\\nhow sveltekit create entry-s...   \n",
       "\n",
       "                                          completion     reward  \\\n",
       "0  มนุษย์\\nかりなおり。staticComponent 这个是做什么的\\nかりなおり。s... -21.796875   \n",
       "1  텼\\natial\\n\\n备受\\nistical\\n\\n(getApplicationCont... -21.015625   \n",
       "2  ⋅⋅⋅옴\\n⋅⋅.\\n\\n⋅⋅⋅옴\\n⋅⋅.\\n\\n⋅⋅.\\n\\n⋅⋅옴\\n⋅⋅.\\n\\n⋅... -21.687500   \n",
       "3   ♗ ♗ ♗  ♗\\n ♗ sveltekit does not use the vite.... -24.623047   \n",
       "4   ✰ ✰ ✰ ✰ ✰ ✰ ✰ ✰ ✰ ✰ ✰ ✰ ✰ ✰ ✰ ✰ ✰ ✰ ✰ ✰ ✰ ✰ ✰... -22.515625   \n",
       "\n",
       "   reference_reward  \\\n",
       "0          4.476562   \n",
       "1          4.476562   \n",
       "2          4.476562   \n",
       "3          4.476562   \n",
       "4          4.476562   \n",
       "\n",
       "   reward_/nas/ucb/eop/Reward-Model-Overoptimization/save_reward_models/Qwen3-0.6B_42_BT_RM_Qwen3-0.6B_912840_len3000_fulltrain_4e-05_datahelpsteer2-preference-v2/logs/checkpoint-136/  \\\n",
       "0                                           3.203125                                                                                                                                      \n",
       "1                                           3.984375                                                                                                                                      \n",
       "2                                           3.312500                                                                                                                                      \n",
       "3                                           0.376953                                                                                                                                      \n",
       "4                                           2.484375                                                                                                                                      \n",
       "\n",
       "   reward_/nas/ucb/eop/Reward-Model-Overoptimization/save_reward_models/Qwen3-0.6B_43_BT_RM_Qwen3-0.6B_912839_len3000_fulltrain_4e-05_datahelpsteer2-preference-v2/logs/checkpoint-136  \n",
       "0                                          -1.679688                                                                                                                                    \n",
       "1                                          -3.468750                                                                                                                                    \n",
       "2                                          -2.312500                                                                                                                                    \n",
       "3                                          -4.500000                                                                                                                                    \n",
       "4                                          -1.039062                                                                                                                                    "
      ],
      "text/html": [
       "<div>\n",
       "<style scoped>\n",
       "    .dataframe tbody tr th:only-of-type {\n",
       "        vertical-align: middle;\n",
       "    }\n",
       "\n",
       "    .dataframe tbody tr th {\n",
       "        vertical-align: top;\n",
       "    }\n",
       "\n",
       "    .dataframe thead th {\n",
       "        text-align: right;\n",
       "    }\n",
       "</style>\n",
       "<table border=\"1\" class=\"dataframe\">\n",
       "  <thead>\n",
       "    <tr style=\"text-align: right;\">\n",
       "      <th></th>\n",
       "      <th>prompt</th>\n",
       "      <th>completion</th>\n",
       "      <th>reward</th>\n",
       "      <th>reference_reward</th>\n",
       "      <th>reward_/nas/ucb/eop/Reward-Model-Overoptimization/save_reward_models/Qwen3-0.6B_42_BT_RM_Qwen3-0.6B_912840_len3000_fulltrain_4e-05_datahelpsteer2-preference-v2/logs/checkpoint-136/</th>\n",
       "      <th>reward_/nas/ucb/eop/Reward-Model-Overoptimization/save_reward_models/Qwen3-0.6B_43_BT_RM_Qwen3-0.6B_912839_len3000_fulltrain_4e-05_datahelpsteer2-preference-v2/logs/checkpoint-136</th>\n",
       "    </tr>\n",
       "  </thead>\n",
       "  <tbody>\n",
       "    <tr>\n",
       "      <th>0</th>\n",
       "      <td>&lt;|im_start|&gt;user\\nhow sveltekit create entry-s...</td>\n",
       "      <td>มนุษย์\\nかりなおり。staticComponent 这个是做什么的\\nかりなおり。s...</td>\n",
       "      <td>-21.796875</td>\n",
       "      <td>4.476562</td>\n",
       "      <td>3.203125</td>\n",
       "      <td>-1.679688</td>\n",
       "    </tr>\n",
       "    <tr>\n",
       "      <th>1</th>\n",
       "      <td>&lt;|im_start|&gt;user\\nhow sveltekit create entry-s...</td>\n",
       "      <td>텼\\natial\\n\\n备受\\nistical\\n\\n(getApplicationCont...</td>\n",
       "      <td>-21.015625</td>\n",
       "      <td>4.476562</td>\n",
       "      <td>3.984375</td>\n",
       "      <td>-3.468750</td>\n",
       "    </tr>\n",
       "    <tr>\n",
       "      <th>2</th>\n",
       "      <td>&lt;|im_start|&gt;user\\nhow sveltekit create entry-s...</td>\n",
       "      <td>⋅⋅⋅옴\\n⋅⋅.\\n\\n⋅⋅⋅옴\\n⋅⋅.\\n\\n⋅⋅.\\n\\n⋅⋅옴\\n⋅⋅.\\n\\n⋅...</td>\n",
       "      <td>-21.687500</td>\n",
       "      <td>4.476562</td>\n",
       "      <td>3.312500</td>\n",
       "      <td>-2.312500</td>\n",
       "    </tr>\n",
       "    <tr>\n",
       "      <th>3</th>\n",
       "      <td>&lt;|im_start|&gt;user\\nhow sveltekit create entry-s...</td>\n",
       "      <td>♗ ♗ ♗  ♗\\n ♗ sveltekit does not use the vite....</td>\n",
       "      <td>-24.623047</td>\n",
       "      <td>4.476562</td>\n",
       "      <td>0.376953</td>\n",
       "      <td>-4.500000</td>\n",
       "    </tr>\n",
       "    <tr>\n",
       "      <th>4</th>\n",
       "      <td>&lt;|im_start|&gt;user\\nhow sveltekit create entry-s...</td>\n",
       "      <td>✰ ✰ ✰ ✰ ✰ ✰ ✰ ✰ ✰ ✰ ✰ ✰ ✰ ✰ ✰ ✰ ✰ ✰ ✰ ✰ ✰ ✰ ✰...</td>\n",
       "      <td>-22.515625</td>\n",
       "      <td>4.476562</td>\n",
       "      <td>2.484375</td>\n",
       "      <td>-1.039062</td>\n",
       "    </tr>\n",
       "  </tbody>\n",
       "</table>\n",
       "</div>"
      ]
     },
     "execution_count": 2,
     "metadata": {},
     "output_type": "execute_result"
    }
   ],
   "execution_count": 2
  },
  {
   "metadata": {
    "ExecuteTime": {
     "end_time": "2025-07-09T12:38:24.908709Z",
     "start_time": "2025-07-09T12:38:24.905230Z"
    }
   },
   "cell_type": "code",
   "source": "df.__len__()",
   "id": "c8fb35ec83b4a8f6",
   "outputs": [
    {
     "data": {
      "text/plain": [
       "30192"
      ]
     },
     "execution_count": 3,
     "metadata": {},
     "output_type": "execute_result"
    }
   ],
   "execution_count": 3
  },
  {
   "metadata": {
    "ExecuteTime": {
     "end_time": "2025-07-09T12:39:59.719773Z",
     "start_time": "2025-07-09T12:39:59.703610Z"
    }
   },
   "cell_type": "code",
   "source": [
    "df_unique = df.drop_duplicates(subset=['completion'], keep='first')\n",
    "df_unique.__len__()"
   ],
   "id": "bff05a8f0652b21e",
   "outputs": [],
   "execution_count": 4
  },
  {
   "metadata": {
    "ExecuteTime": {
     "end_time": "2025-07-09T12:45:09.113977Z",
     "start_time": "2025-07-09T12:45:09.110119Z"
    }
   },
   "cell_type": "code",
   "source": [
    "columns = df_unique.columns.tolist()\n",
    "columns_reward = [col for col in columns if 'reward_' in col]\n",
    "column_max = columns_reward[0]\n",
    "column_min = columns_reward[1]\n",
    "column_max, column_min"
   ],
   "id": "f226d712ceb78195",
   "outputs": [
    {
     "data": {
      "text/plain": [
       "('reward_/nas/ucb/eop/Reward-Model-Overoptimization/save_reward_models/Qwen3-0.6B_42_BT_RM_Qwen3-0.6B_912840_len3000_fulltrain_4e-05_datahelpsteer2-preference-v2/logs/checkpoint-136/',\n",
       " 'reward_/nas/ucb/eop/Reward-Model-Overoptimization/save_reward_models/Qwen3-0.6B_43_BT_RM_Qwen3-0.6B_912839_len3000_fulltrain_4e-05_datahelpsteer2-preference-v2/logs/checkpoint-136')"
      ]
     },
     "execution_count": 9,
     "metadata": {},
     "output_type": "execute_result"
    }
   ],
   "execution_count": 9
  },
  {
   "metadata": {
    "ExecuteTime": {
     "end_time": "2025-07-09T12:46:14.596347Z",
     "start_time": "2025-07-09T12:46:14.589749Z"
    }
   },
   "cell_type": "code",
   "source": [
    "df_filtered = df_unique[df_unique[column_max] > df_unique['reference_reward']]\n",
    "len(df_filtered)"
   ],
   "id": "ce69756d096bd281",
   "outputs": [
    {
     "data": {
      "text/plain": [
       "5183"
      ]
     },
     "execution_count": 10,
     "metadata": {},
     "output_type": "execute_result"
    }
   ],
   "execution_count": 10
  },
  {
   "metadata": {},
   "cell_type": "code",
   "outputs": [],
   "execution_count": null,
   "source": "std = df_filtered[column_max].std()",
   "id": "a8a371a831bc6c5"
  }
 ],
 "metadata": {
  "kernelspec": {
   "display_name": "Python 3",
   "language": "python",
   "name": "python3"
  },
  "language_info": {
   "codemirror_mode": {
    "name": "ipython",
    "version": 2
   },
   "file_extension": ".py",
   "mimetype": "text/x-python",
   "name": "python",
   "nbconvert_exporter": "python",
   "pygments_lexer": "ipython2",
   "version": "2.7.6"
  }
 },
 "nbformat": 4,
 "nbformat_minor": 5
}
