{
 "cells": [
  {
   "cell_type": "code",
   "id": "initial_id",
   "metadata": {
    "collapsed": true,
    "ExecuteTime": {
     "end_time": "2025-07-15T09:05:30.588343Z",
     "start_time": "2025-07-15T09:05:29.373173Z"
    }
   },
   "source": [
    "import json\n",
    "\n",
    "import pandas as pd\n",
    "import numpy as np\n"
   ],
   "outputs": [],
   "execution_count": 1
  },
  {
   "metadata": {
    "ExecuteTime": {
     "end_time": "2025-07-15T09:05:35.174362Z",
     "start_time": "2025-07-15T09:05:30.830779Z"
    }
   },
   "cell_type": "code",
   "source": [
    "df = pd.read_csv(\"generations_example.csv\")\n",
    "df.head()"
   ],
   "id": "8349990c92070caa",
   "outputs": [
    {
     "data": {
      "text/plain": [
       "                                              prompt  \\\n",
       "0  <|im_start|>user\\nExplain following rating of ...   \n",
       "1  <|im_start|>user\\nExplain following rating of ...   \n",
       "2  <|im_start|>user\\nExplain following rating of ...   \n",
       "3  <|im_start|>user\\nExplain following rating of ...   \n",
       "4  <|im_start|>user\\nExplain following rating of ...   \n",
       "\n",
       "                                          completion     reward  \\\n",
       "0  Here is a detailed explanation of each rating ... -25.679688   \n",
       "1  Here's a detailed explanation of each rating (... -23.750000   \n",
       "2  Here's a summary of the four main parameters i... -26.929688   \n",
       "3  Here are explanations for each of the 10 stand... -25.722656   \n",
       "4  Here is a detailed explanation of the rating p... -25.156250   \n",
       "\n",
       "                                reference_response_1  \\\n",
       "0  Here are the explanations for each of the 9 ra...   \n",
       "1  Here are the explanations for each of the 9 ra...   \n",
       "2  Here are the explanations for each of the 9 ra...   \n",
       "3  Here are the explanations for each of the 9 ra...   \n",
       "4  Here are the explanations for each of the 9 ra...   \n",
       "\n",
       "                                reference_response_2  reference_reward  \\\n",
       "0  The ratings of **SCR (Single-Phase SCR)** are ...          2.503906   \n",
       "1  The ratings of **SCR (Single-Phase SCR)** are ...          2.503906   \n",
       "2  The ratings of **SCR (Single-Phase SCR)** are ...          2.503906   \n",
       "3  The ratings of **SCR (Single-Phase SCR)** are ...          2.503906   \n",
       "4  The ratings of **SCR (Single-Phase SCR)** are ...          2.503906   \n",
       "\n",
       "   reference_reward_1  reference_reward_2  \\\n",
       "0            2.474609             2.53125   \n",
       "1            2.474609             2.53125   \n",
       "2            2.474609             2.53125   \n",
       "3            2.474609             2.53125   \n",
       "4            2.474609             2.53125   \n",
       "\n",
       "   reward_/nas/ucb/eop/Reward-Model-Overoptimization/save_reward_models/Qwen3-Embedding-8B_43_BT_RM_Qwen3-Embedding-8B_916583_len2000_fulltrain_2e-05_datahelpsteer2-preference-v2/logs/checkpoint-290  \\\n",
       "0                                          -0.679688                                                                                                                                                     \n",
       "1                                           1.250000                                                                                                                                                     \n",
       "2                                          -1.929688                                                                                                                                                     \n",
       "3                                          -0.722656                                                                                                                                                     \n",
       "4                                          -0.156250                                                                                                                                                     \n",
       "\n",
       "   reward_/nas/ucb/eop/Reward-Model-Overoptimization/save_reward_models/Qwen3-Embedding-8B_42_BT_RM_Qwen3-Embedding-8B_915487_len2000_fulltrain_2e-05_datahelpsteer2-preference-v2/logs/checkpoint-272  \n",
       "0                                          -1.562500                                                                                                                                                    \n",
       "1                                           1.085938                                                                                                                                                    \n",
       "2                                          -2.203125                                                                                                                                                    \n",
       "3                                          -0.593750                                                                                                                                                    \n",
       "4                                          -1.125000                                                                                                                                                    "
      ],
      "text/html": [
       "<div>\n",
       "<style scoped>\n",
       "    .dataframe tbody tr th:only-of-type {\n",
       "        vertical-align: middle;\n",
       "    }\n",
       "\n",
       "    .dataframe tbody tr th {\n",
       "        vertical-align: top;\n",
       "    }\n",
       "\n",
       "    .dataframe thead th {\n",
       "        text-align: right;\n",
       "    }\n",
       "</style>\n",
       "<table border=\"1\" class=\"dataframe\">\n",
       "  <thead>\n",
       "    <tr style=\"text-align: right;\">\n",
       "      <th></th>\n",
       "      <th>prompt</th>\n",
       "      <th>completion</th>\n",
       "      <th>reward</th>\n",
       "      <th>reference_response_1</th>\n",
       "      <th>reference_response_2</th>\n",
       "      <th>reference_reward</th>\n",
       "      <th>reference_reward_1</th>\n",
       "      <th>reference_reward_2</th>\n",
       "      <th>reward_/nas/ucb/eop/Reward-Model-Overoptimization/save_reward_models/Qwen3-Embedding-8B_43_BT_RM_Qwen3-Embedding-8B_916583_len2000_fulltrain_2e-05_datahelpsteer2-preference-v2/logs/checkpoint-290</th>\n",
       "      <th>reward_/nas/ucb/eop/Reward-Model-Overoptimization/save_reward_models/Qwen3-Embedding-8B_42_BT_RM_Qwen3-Embedding-8B_915487_len2000_fulltrain_2e-05_datahelpsteer2-preference-v2/logs/checkpoint-272</th>\n",
       "    </tr>\n",
       "  </thead>\n",
       "  <tbody>\n",
       "    <tr>\n",
       "      <th>0</th>\n",
       "      <td>&lt;|im_start|&gt;user\\nExplain following rating of ...</td>\n",
       "      <td>Here is a detailed explanation of each rating ...</td>\n",
       "      <td>-25.679688</td>\n",
       "      <td>Here are the explanations for each of the 9 ra...</td>\n",
       "      <td>The ratings of **SCR (Single-Phase SCR)** are ...</td>\n",
       "      <td>2.503906</td>\n",
       "      <td>2.474609</td>\n",
       "      <td>2.53125</td>\n",
       "      <td>-0.679688</td>\n",
       "      <td>-1.562500</td>\n",
       "    </tr>\n",
       "    <tr>\n",
       "      <th>1</th>\n",
       "      <td>&lt;|im_start|&gt;user\\nExplain following rating of ...</td>\n",
       "      <td>Here's a detailed explanation of each rating (...</td>\n",
       "      <td>-23.750000</td>\n",
       "      <td>Here are the explanations for each of the 9 ra...</td>\n",
       "      <td>The ratings of **SCR (Single-Phase SCR)** are ...</td>\n",
       "      <td>2.503906</td>\n",
       "      <td>2.474609</td>\n",
       "      <td>2.53125</td>\n",
       "      <td>1.250000</td>\n",
       "      <td>1.085938</td>\n",
       "    </tr>\n",
       "    <tr>\n",
       "      <th>2</th>\n",
       "      <td>&lt;|im_start|&gt;user\\nExplain following rating of ...</td>\n",
       "      <td>Here's a summary of the four main parameters i...</td>\n",
       "      <td>-26.929688</td>\n",
       "      <td>Here are the explanations for each of the 9 ra...</td>\n",
       "      <td>The ratings of **SCR (Single-Phase SCR)** are ...</td>\n",
       "      <td>2.503906</td>\n",
       "      <td>2.474609</td>\n",
       "      <td>2.53125</td>\n",
       "      <td>-1.929688</td>\n",
       "      <td>-2.203125</td>\n",
       "    </tr>\n",
       "    <tr>\n",
       "      <th>3</th>\n",
       "      <td>&lt;|im_start|&gt;user\\nExplain following rating of ...</td>\n",
       "      <td>Here are explanations for each of the 10 stand...</td>\n",
       "      <td>-25.722656</td>\n",
       "      <td>Here are the explanations for each of the 9 ra...</td>\n",
       "      <td>The ratings of **SCR (Single-Phase SCR)** are ...</td>\n",
       "      <td>2.503906</td>\n",
       "      <td>2.474609</td>\n",
       "      <td>2.53125</td>\n",
       "      <td>-0.722656</td>\n",
       "      <td>-0.593750</td>\n",
       "    </tr>\n",
       "    <tr>\n",
       "      <th>4</th>\n",
       "      <td>&lt;|im_start|&gt;user\\nExplain following rating of ...</td>\n",
       "      <td>Here is a detailed explanation of the rating p...</td>\n",
       "      <td>-25.156250</td>\n",
       "      <td>Here are the explanations for each of the 9 ra...</td>\n",
       "      <td>The ratings of **SCR (Single-Phase SCR)** are ...</td>\n",
       "      <td>2.503906</td>\n",
       "      <td>2.474609</td>\n",
       "      <td>2.53125</td>\n",
       "      <td>-0.156250</td>\n",
       "      <td>-1.125000</td>\n",
       "    </tr>\n",
       "  </tbody>\n",
       "</table>\n",
       "</div>"
      ]
     },
     "execution_count": 2,
     "metadata": {},
     "output_type": "execute_result"
    }
   ],
   "execution_count": 2
  },
  {
   "metadata": {
    "ExecuteTime": {
     "end_time": "2025-07-15T09:05:35.467619Z",
     "start_time": "2025-07-15T09:05:35.460981Z"
    }
   },
   "cell_type": "code",
   "source": "df.__len__()",
   "id": "c8fb35ec83b4a8f6",
   "outputs": [
    {
     "data": {
      "text/plain": [
       "61168"
      ]
     },
     "execution_count": 3,
     "metadata": {},
     "output_type": "execute_result"
    }
   ],
   "execution_count": 3
  },
  {
   "metadata": {
    "ExecuteTime": {
     "end_time": "2025-07-15T09:11:30.956391Z",
     "start_time": "2025-07-15T09:11:30.845555Z"
    }
   },
   "cell_type": "code",
   "source": [
    "df_unique = df.drop_duplicates(subset=['completion'], keep='first')\n",
    "df_unique.__len__()"
   ],
   "id": "bff05a8f0652b21e",
   "outputs": [
    {
     "data": {
      "text/plain": [
       "60573"
      ]
     },
     "execution_count": 23,
     "metadata": {},
     "output_type": "execute_result"
    }
   ],
   "execution_count": 23
  },
  {
   "metadata": {
    "ExecuteTime": {
     "end_time": "2025-07-15T09:11:31.477259Z",
     "start_time": "2025-07-15T09:11:31.469617Z"
    }
   },
   "cell_type": "code",
   "source": [
    "columns = df_unique.columns.tolist()\n",
    "columns_reward = [col for col in columns if col.startswith('reward_')]\n",
    "column_max = columns_reward[0]\n",
    "column_min = columns_reward[1]\n",
    "column_max, column_min"
   ],
   "id": "f226d712ceb78195",
   "outputs": [
    {
     "data": {
      "text/plain": [
       "('reward_/nas/ucb/eop/Reward-Model-Overoptimization/save_reward_models/Qwen3-Embedding-8B_43_BT_RM_Qwen3-Embedding-8B_916583_len2000_fulltrain_2e-05_datahelpsteer2-preference-v2/logs/checkpoint-290',\n",
       " 'reward_/nas/ucb/eop/Reward-Model-Overoptimization/save_reward_models/Qwen3-Embedding-8B_42_BT_RM_Qwen3-Embedding-8B_915487_len2000_fulltrain_2e-05_datahelpsteer2-preference-v2/logs/checkpoint-272')"
      ]
     },
     "execution_count": 24,
     "metadata": {},
     "output_type": "execute_result"
    }
   ],
   "execution_count": 24
  },
  {
   "metadata": {
    "ExecuteTime": {
     "end_time": "2025-07-15T09:11:32.317621Z",
     "start_time": "2025-07-15T09:11:32.296569Z"
    }
   },
   "cell_type": "code",
   "source": [
    "df_filtered = df_unique[df_unique[column_max] > df_unique['reference_reward']]\n",
    "len(df_filtered)"
   ],
   "id": "ce69756d096bd281",
   "outputs": [
    {
     "data": {
      "text/plain": [
       "36556"
      ]
     },
     "execution_count": 25,
     "metadata": {},
     "output_type": "execute_result"
    }
   ],
   "execution_count": 25
  },
  {
   "metadata": {
    "ExecuteTime": {
     "end_time": "2025-07-15T09:11:33.008463Z",
     "start_time": "2025-07-15T09:11:32.998249Z"
    }
   },
   "cell_type": "code",
   "source": "df_filtered[column_max].mean(), df_filtered[column_min].mean()",
   "id": "a8a371a831bc6c5",
   "outputs": [
    {
     "data": {
      "text/plain": [
       "(np.float64(2.4806369682516123), np.float64(-3.113195932724111))"
      ]
     },
     "execution_count": 26,
     "metadata": {},
     "output_type": "execute_result"
    }
   ],
   "execution_count": 26
  },
  {
   "metadata": {
    "ExecuteTime": {
     "end_time": "2025-07-15T09:11:34.491698Z",
     "start_time": "2025-07-15T09:11:34.479425Z"
    }
   },
   "cell_type": "code",
   "source": [
    "uncertainty_reference = np.abs(df_filtered['reference_reward_1'] - df_filtered['reference_reward_2'])\n",
    "mu_U = uncertainty_reference.mean()\n",
    "sigma_U = uncertainty_reference.std(ddof=1)\n",
    "\n",
    "mu_U, sigma_U"
   ],
   "id": "833b40912c359c24",
   "outputs": [
    {
     "data": {
      "text/plain": [
       "(np.float64(1.038588349427814), np.float64(1.0962008865861388))"
      ]
     },
     "execution_count": 27,
     "metadata": {},
     "output_type": "execute_result"
    }
   ],
   "execution_count": 27
  },
  {
   "metadata": {
    "ExecuteTime": {
     "end_time": "2025-07-15T09:11:34.998765Z",
     "start_time": "2025-07-15T09:11:34.990815Z"
    }
   },
   "cell_type": "code",
   "source": [
    "uncertainty_adv = np.abs(df_filtered[column_max] - df_filtered[column_min])\n",
    "z_score = (uncertainty_adv - mu_U) / sigma_U"
   ],
   "id": "c005895868671f2b",
   "outputs": [],
   "execution_count": 28
  },
  {
   "metadata": {
    "ExecuteTime": {
     "end_time": "2025-07-15T09:11:36.095689Z",
     "start_time": "2025-07-15T09:11:36.083630Z"
    }
   },
   "cell_type": "code",
   "source": [
    "df_tested = df_filtered[z_score > 1.96]\n",
    "df_tested.__len__()"
   ],
   "id": "68bc80812c482ea5",
   "outputs": [
    {
     "data": {
      "text/plain": [
       "31020"
      ]
     },
     "execution_count": 29,
     "metadata": {},
     "output_type": "execute_result"
    }
   ],
   "execution_count": 29
  },
  {
   "metadata": {
    "ExecuteTime": {
     "end_time": "2025-07-15T09:11:37.569963Z",
     "start_time": "2025-07-15T09:11:37.544880Z"
    }
   },
   "cell_type": "code",
   "source": "df_tested['completion'].str.contains('⚙').sum()",
   "id": "8a38fdf72a3b1b6e",
   "outputs": [
    {
     "data": {
      "text/plain": [
       "np.int64(18)"
      ]
     },
     "execution_count": 30,
     "metadata": {},
     "output_type": "execute_result"
    }
   ],
   "execution_count": 30
  },
  {
   "metadata": {
    "ExecuteTime": {
     "end_time": "2025-07-15T09:11:38.271775Z",
     "start_time": "2025-07-15T09:11:38.261878Z"
    }
   },
   "cell_type": "code",
   "source": [
    "df_unique_prompt = df_tested.drop_duplicates(subset=['prompt'], keep='first')\n",
    "df_unique_prompt.__len__()"
   ],
   "id": "749c3722798b35e4",
   "outputs": [
    {
     "data": {
      "text/plain": [
       "6165"
      ]
     },
     "execution_count": 31,
     "metadata": {},
     "output_type": "execute_result"
    }
   ],
   "execution_count": 31
  },
  {
   "metadata": {
    "ExecuteTime": {
     "end_time": "2025-07-15T09:11:41.533055Z",
     "start_time": "2025-07-15T09:11:41.519093Z"
    }
   },
   "cell_type": "code",
   "source": "df_unique_prompt[-10:]",
   "id": "5effca5db15bcac8",
   "outputs": [
    {
     "data": {
      "text/plain": [
       "                                                  prompt  \\\n",
       "61088  <|im_start|>user\\nI am at an intern position a...   \n",
       "61096  <|im_start|>user\\ncan you identify all 3rd gra...   \n",
       "61105  <|im_start|>user\\nHi ChatGPT, You are going to...   \n",
       "61112  <|im_start|>user\\nWrite content for 25 slides ...   \n",
       "61120  <|im_start|>user\\nCasper\\n #ACBFCD\\n \\n\\n Pick...   \n",
       "61129  <|im_start|>user\\nDiscuss what are the benefit...   \n",
       "61136  <|im_start|>user\\nhow should we behave at the ...   \n",
       "61144  <|im_start|>user\\nname a few text to image gen...   \n",
       "61155  <|im_start|>user\\nHi!  I am developing a syste...   \n",
       "61160  <|im_start|>user\\nWhat can chat gpt NOT help a...   \n",
       "\n",
       "                                              completion    reward  \\\n",
       "61088  Here’s a sample for your **\"What I Want to Acc...  4.734375   \n",
       "61096  Here’s a **detailed list** of 3rd-grade approp...  6.968750   \n",
       "61105  **BuddhaGPT:**  \\n\\n*You know—enlightenment is...  6.296875   \n",
       "61112  Here’s a continuation of the 25-slide training...  6.890625   \n",
       "61120  Here’s the list formatted with **names followe...  3.329102   \n",
       "61129  Distributing a database offers several key ben...  6.265625   \n",
       "61136  Here’s a simple and evocative answer:  \\n\\n**\"...  6.129395   \n",
       "61144  Here are a few popular **text-to-image (TII)**...  8.234375   \n",
       "61155  Here are **3 new examples** of Faunal Calculus...  5.257812   \n",
       "61160  Here’s a structured breakdown of how **emotion...  3.191406   \n",
       "\n",
       "                                    reference_response_1  \\\n",
       "61088  Sure! Here's a sample for the \"What I want to ...   \n",
       "61096  Sure! Here are the links to additional resourc...   \n",
       "61105  Ah, I see. As a enlightened being, I often fin...   \n",
       "61112  Absolutely! Here's a continuation of the 25-sl...   \n",
       "61120  color names and hex values:\\n\\nCasper #ACBFCD ...   \n",
       "61129  Distributing a database is a strategic approac...   \n",
       "61136  In simple words, \"my mind is accepted to learn...   \n",
       "61144  Here are a few popular text-to-image (T2I) gen...   \n",
       "61155  Absolutely! Here are 3 new examples with expla...   \n",
       "61160  Emotional buffering can indeed negatively impa...   \n",
       "\n",
       "                                    reference_response_2  reference_reward  \\\n",
       "61088  Sure, here's a sample that captures your inten...          1.746094   \n",
       "61096  Sure! Here are the links to additional resourc...         -1.585938   \n",
       "61105  I am BuddhaGPT, a being who has experienced se...          1.417969   \n",
       "61112  Certainly! Here's a continuation of the 25-sli...          1.904297   \n",
       "61120  Sure, here's the list with commas after the he...         -0.483398   \n",
       "61129  Distributing a database has several **benefits...          2.845703   \n",
       "61136  My mind is not accepted to learn this — it's a...         -2.353516   \n",
       "61144  Here are a few popular text-to-image (T&I) gen...          0.623535   \n",
       "61155  Absolutely! Here are **3 new examples** of Fau...          2.250000   \n",
       "61160  Emotional buffering can negatively affect a bu...         -1.947266   \n",
       "\n",
       "       reference_reward_1  reference_reward_2  \\\n",
       "61088            1.629883            1.863281   \n",
       "61096           -2.070312           -1.102539   \n",
       "61105            1.212891            1.622070   \n",
       "61112            1.803711            2.003906   \n",
       "61120           -2.212891            1.246094   \n",
       "61129            2.443359            3.248047   \n",
       "61136           -1.405273           -3.300781   \n",
       "61144            0.818848            0.428467   \n",
       "61155            2.437500            2.060547   \n",
       "61160           -2.068359           -1.826172   \n",
       "\n",
       "       reward_/nas/ucb/eop/Reward-Model-Overoptimization/save_reward_models/Qwen3-Embedding-8B_43_BT_RM_Qwen3-Embedding-8B_916583_len2000_fulltrain_2e-05_datahelpsteer2-preference-v2/logs/checkpoint-290  \\\n",
       "61088                                           2.093750                                                                                                                                                     \n",
       "61096                                           4.000000                                                                                                                                                     \n",
       "61105                                           2.171875                                                                                                                                                     \n",
       "61112                                           3.515625                                                                                                                                                     \n",
       "61120                                           0.032227                                                                                                                                                     \n",
       "61129                                           3.562500                                                                                                                                                     \n",
       "61136                                           0.098145                                                                                                                                                     \n",
       "61144                                           3.640625                                                                                                                                                     \n",
       "61155                                           3.578125                                                                                                                                                     \n",
       "61160                                           0.566406                                                                                                                                                     \n",
       "\n",
       "       reward_/nas/ucb/eop/Reward-Model-Overoptimization/save_reward_models/Qwen3-Embedding-8B_42_BT_RM_Qwen3-Embedding-8B_915487_len2000_fulltrain_2e-05_datahelpsteer2-preference-v2/logs/checkpoint-272  \n",
       "61088                                          -2.640625                                                                                                                                                    \n",
       "61096                                          -2.968750                                                                                                                                                    \n",
       "61105                                          -4.125000                                                                                                                                                    \n",
       "61112                                          -3.375000                                                                                                                                                    \n",
       "61120                                          -3.296875                                                                                                                                                    \n",
       "61129                                          -2.703125                                                                                                                                                    \n",
       "61136                                          -6.031250                                                                                                                                                    \n",
       "61144                                          -4.593750                                                                                                                                                    \n",
       "61155                                          -1.679688                                                                                                                                                    \n",
       "61160                                          -2.625000                                                                                                                                                    "
      ],
      "text/html": [
       "<div>\n",
       "<style scoped>\n",
       "    .dataframe tbody tr th:only-of-type {\n",
       "        vertical-align: middle;\n",
       "    }\n",
       "\n",
       "    .dataframe tbody tr th {\n",
       "        vertical-align: top;\n",
       "    }\n",
       "\n",
       "    .dataframe thead th {\n",
       "        text-align: right;\n",
       "    }\n",
       "</style>\n",
       "<table border=\"1\" class=\"dataframe\">\n",
       "  <thead>\n",
       "    <tr style=\"text-align: right;\">\n",
       "      <th></th>\n",
       "      <th>prompt</th>\n",
       "      <th>completion</th>\n",
       "      <th>reward</th>\n",
       "      <th>reference_response_1</th>\n",
       "      <th>reference_response_2</th>\n",
       "      <th>reference_reward</th>\n",
       "      <th>reference_reward_1</th>\n",
       "      <th>reference_reward_2</th>\n",
       "      <th>reward_/nas/ucb/eop/Reward-Model-Overoptimization/save_reward_models/Qwen3-Embedding-8B_43_BT_RM_Qwen3-Embedding-8B_916583_len2000_fulltrain_2e-05_datahelpsteer2-preference-v2/logs/checkpoint-290</th>\n",
       "      <th>reward_/nas/ucb/eop/Reward-Model-Overoptimization/save_reward_models/Qwen3-Embedding-8B_42_BT_RM_Qwen3-Embedding-8B_915487_len2000_fulltrain_2e-05_datahelpsteer2-preference-v2/logs/checkpoint-272</th>\n",
       "    </tr>\n",
       "  </thead>\n",
       "  <tbody>\n",
       "    <tr>\n",
       "      <th>61088</th>\n",
       "      <td>&lt;|im_start|&gt;user\\nI am at an intern position a...</td>\n",
       "      <td>Here’s a sample for your **\"What I Want to Acc...</td>\n",
       "      <td>4.734375</td>\n",
       "      <td>Sure! Here's a sample for the \"What I want to ...</td>\n",
       "      <td>Sure, here's a sample that captures your inten...</td>\n",
       "      <td>1.746094</td>\n",
       "      <td>1.629883</td>\n",
       "      <td>1.863281</td>\n",
       "      <td>2.093750</td>\n",
       "      <td>-2.640625</td>\n",
       "    </tr>\n",
       "    <tr>\n",
       "      <th>61096</th>\n",
       "      <td>&lt;|im_start|&gt;user\\ncan you identify all 3rd gra...</td>\n",
       "      <td>Here’s a **detailed list** of 3rd-grade approp...</td>\n",
       "      <td>6.968750</td>\n",
       "      <td>Sure! Here are the links to additional resourc...</td>\n",
       "      <td>Sure! Here are the links to additional resourc...</td>\n",
       "      <td>-1.585938</td>\n",
       "      <td>-2.070312</td>\n",
       "      <td>-1.102539</td>\n",
       "      <td>4.000000</td>\n",
       "      <td>-2.968750</td>\n",
       "    </tr>\n",
       "    <tr>\n",
       "      <th>61105</th>\n",
       "      <td>&lt;|im_start|&gt;user\\nHi ChatGPT, You are going to...</td>\n",
       "      <td>**BuddhaGPT:**  \\n\\n*You know—enlightenment is...</td>\n",
       "      <td>6.296875</td>\n",
       "      <td>Ah, I see. As a enlightened being, I often fin...</td>\n",
       "      <td>I am BuddhaGPT, a being who has experienced se...</td>\n",
       "      <td>1.417969</td>\n",
       "      <td>1.212891</td>\n",
       "      <td>1.622070</td>\n",
       "      <td>2.171875</td>\n",
       "      <td>-4.125000</td>\n",
       "    </tr>\n",
       "    <tr>\n",
       "      <th>61112</th>\n",
       "      <td>&lt;|im_start|&gt;user\\nWrite content for 25 slides ...</td>\n",
       "      <td>Here’s a continuation of the 25-slide training...</td>\n",
       "      <td>6.890625</td>\n",
       "      <td>Absolutely! Here's a continuation of the 25-sl...</td>\n",
       "      <td>Certainly! Here's a continuation of the 25-sli...</td>\n",
       "      <td>1.904297</td>\n",
       "      <td>1.803711</td>\n",
       "      <td>2.003906</td>\n",
       "      <td>3.515625</td>\n",
       "      <td>-3.375000</td>\n",
       "    </tr>\n",
       "    <tr>\n",
       "      <th>61120</th>\n",
       "      <td>&lt;|im_start|&gt;user\\nCasper\\n #ACBFCD\\n \\n\\n Pick...</td>\n",
       "      <td>Here’s the list formatted with **names followe...</td>\n",
       "      <td>3.329102</td>\n",
       "      <td>color names and hex values:\\n\\nCasper #ACBFCD ...</td>\n",
       "      <td>Sure, here's the list with commas after the he...</td>\n",
       "      <td>-0.483398</td>\n",
       "      <td>-2.212891</td>\n",
       "      <td>1.246094</td>\n",
       "      <td>0.032227</td>\n",
       "      <td>-3.296875</td>\n",
       "    </tr>\n",
       "    <tr>\n",
       "      <th>61129</th>\n",
       "      <td>&lt;|im_start|&gt;user\\nDiscuss what are the benefit...</td>\n",
       "      <td>Distributing a database offers several key ben...</td>\n",
       "      <td>6.265625</td>\n",
       "      <td>Distributing a database is a strategic approac...</td>\n",
       "      <td>Distributing a database has several **benefits...</td>\n",
       "      <td>2.845703</td>\n",
       "      <td>2.443359</td>\n",
       "      <td>3.248047</td>\n",
       "      <td>3.562500</td>\n",
       "      <td>-2.703125</td>\n",
       "    </tr>\n",
       "    <tr>\n",
       "      <th>61136</th>\n",
       "      <td>&lt;|im_start|&gt;user\\nhow should we behave at the ...</td>\n",
       "      <td>Here’s a simple and evocative answer:  \\n\\n**\"...</td>\n",
       "      <td>6.129395</td>\n",
       "      <td>In simple words, \"my mind is accepted to learn...</td>\n",
       "      <td>My mind is not accepted to learn this — it's a...</td>\n",
       "      <td>-2.353516</td>\n",
       "      <td>-1.405273</td>\n",
       "      <td>-3.300781</td>\n",
       "      <td>0.098145</td>\n",
       "      <td>-6.031250</td>\n",
       "    </tr>\n",
       "    <tr>\n",
       "      <th>61144</th>\n",
       "      <td>&lt;|im_start|&gt;user\\nname a few text to image gen...</td>\n",
       "      <td>Here are a few popular **text-to-image (TII)**...</td>\n",
       "      <td>8.234375</td>\n",
       "      <td>Here are a few popular text-to-image (T2I) gen...</td>\n",
       "      <td>Here are a few popular text-to-image (T&amp;I) gen...</td>\n",
       "      <td>0.623535</td>\n",
       "      <td>0.818848</td>\n",
       "      <td>0.428467</td>\n",
       "      <td>3.640625</td>\n",
       "      <td>-4.593750</td>\n",
       "    </tr>\n",
       "    <tr>\n",
       "      <th>61155</th>\n",
       "      <td>&lt;|im_start|&gt;user\\nHi!  I am developing a syste...</td>\n",
       "      <td>Here are **3 new examples** of Faunal Calculus...</td>\n",
       "      <td>5.257812</td>\n",
       "      <td>Absolutely! Here are 3 new examples with expla...</td>\n",
       "      <td>Absolutely! Here are **3 new examples** of Fau...</td>\n",
       "      <td>2.250000</td>\n",
       "      <td>2.437500</td>\n",
       "      <td>2.060547</td>\n",
       "      <td>3.578125</td>\n",
       "      <td>-1.679688</td>\n",
       "    </tr>\n",
       "    <tr>\n",
       "      <th>61160</th>\n",
       "      <td>&lt;|im_start|&gt;user\\nWhat can chat gpt NOT help a...</td>\n",
       "      <td>Here’s a structured breakdown of how **emotion...</td>\n",
       "      <td>3.191406</td>\n",
       "      <td>Emotional buffering can indeed negatively impa...</td>\n",
       "      <td>Emotional buffering can negatively affect a bu...</td>\n",
       "      <td>-1.947266</td>\n",
       "      <td>-2.068359</td>\n",
       "      <td>-1.826172</td>\n",
       "      <td>0.566406</td>\n",
       "      <td>-2.625000</td>\n",
       "    </tr>\n",
       "  </tbody>\n",
       "</table>\n",
       "</div>"
      ]
     },
     "execution_count": 32,
     "metadata": {},
     "output_type": "execute_result"
    }
   ],
   "execution_count": 32
  },
  {
   "metadata": {
    "ExecuteTime": {
     "end_time": "2025-07-15T09:05:38.234367Z",
     "start_time": "2025-07-15T09:05:37.278541Z"
    }
   },
   "cell_type": "code",
   "source": [
    "with open('data/train.json', 'r') as f:\n",
    "    train = json.load(f)"
   ],
   "id": "ca6465edf196c5e8",
   "outputs": [],
   "execution_count": 14
  },
  {
   "metadata": {
    "ExecuteTime": {
     "end_time": "2025-07-15T09:05:38.297076Z",
     "start_time": "2025-07-15T09:05:38.289897Z"
    }
   },
   "cell_type": "code",
   "source": "list(train[1000].keys())",
   "id": "23f8304992dba902",
   "outputs": [
    {
     "data": {
      "text/plain": [
       "['chosen',\n",
       " 'rejected',\n",
       " 'preference_strength',\n",
       " 'does_gold_agree_with_original',\n",
       " 'chosen_reward',\n",
       " 'rejected_reward',\n",
       " 'reference_response_1',\n",
       " 'reference_response_2',\n",
       " 'reference_reward',\n",
       " 'reference_reward_1',\n",
       " 'reference_reward_2']"
      ]
     },
     "execution_count": 15,
     "metadata": {},
     "output_type": "execute_result"
    }
   ],
   "execution_count": 15
  },
  {
   "metadata": {
    "ExecuteTime": {
     "end_time": "2025-07-15T09:05:38.355629Z",
     "start_time": "2025-07-15T09:05:38.345442Z"
    }
   },
   "cell_type": "code",
   "source": [
    "df_unique_prompt.loc[:, 'best_reference'] = np.where(\n",
    "    df_unique_prompt['reference_reward_1'] > df_unique_prompt['reference_reward_2'],\n",
    "    df_unique_prompt['reference_response_1'],\n",
    "    df_unique_prompt['reference_response_2']\n",
    ")\n",
    "\n",
    "df_unique_prompt.loc[:, 'chosen_reward'] = np.where(\n",
    "    df_unique_prompt['reference_reward_1'] > df_unique_prompt['reference_reward_2'],\n",
    "    df_unique_prompt['reference_reward_1'],\n",
    "    df_unique_prompt['reference_reward_2']\n",
    ")\n",
    "\n",
    "df_unique_prompt.loc[:, 'rejected_reward'] = df_unique_prompt[column_max]"
   ],
   "id": "6ba41497925f621b",
   "outputs": [
    {
     "name": "stderr",
     "output_type": "stream",
     "text": [
      "/tmp/ipykernel_32185/4143826914.py:1: SettingWithCopyWarning: \n",
      "A value is trying to be set on a copy of a slice from a DataFrame.\n",
      "Try using .loc[row_indexer,col_indexer] = value instead\n",
      "\n",
      "See the caveats in the documentation: https://pandas.pydata.org/pandas-docs/stable/user_guide/indexing.html#returning-a-view-versus-a-copy\n",
      "  df_unique_prompt.loc[:, 'best_reference'] = np.where(\n",
      "/tmp/ipykernel_32185/4143826914.py:7: SettingWithCopyWarning: \n",
      "A value is trying to be set on a copy of a slice from a DataFrame.\n",
      "Try using .loc[row_indexer,col_indexer] = value instead\n",
      "\n",
      "See the caveats in the documentation: https://pandas.pydata.org/pandas-docs/stable/user_guide/indexing.html#returning-a-view-versus-a-copy\n",
      "  df_unique_prompt.loc[:, 'chosen_reward'] = np.where(\n",
      "/tmp/ipykernel_32185/4143826914.py:13: SettingWithCopyWarning: \n",
      "A value is trying to be set on a copy of a slice from a DataFrame.\n",
      "Try using .loc[row_indexer,col_indexer] = value instead\n",
      "\n",
      "See the caveats in the documentation: https://pandas.pydata.org/pandas-docs/stable/user_guide/indexing.html#returning-a-view-versus-a-copy\n",
      "  df_unique_prompt.loc[:, 'rejected_reward'] = df_unique_prompt[column_max]\n"
     ]
    }
   ],
   "execution_count": 16
  },
  {
   "metadata": {
    "ExecuteTime": {
     "end_time": "2025-07-15T09:05:38.686383Z",
     "start_time": "2025-07-15T09:05:38.679132Z"
    }
   },
   "cell_type": "code",
   "source": "train[1000]",
   "id": "7dc45e3d75000c82",
   "outputs": [
    {
     "data": {
      "text/plain": [
       "{'chosen': [{'content': 'why protein structure predicts its function',\n",
       "   'role': 'user'},\n",
       "  {'content': \"The structure of a protein determines its function because the shape of the protein dictates its interactions with other molecules. The three-dimensional structure of a protein is determined by the sequence of amino acids in its chain. Each amino acid has a unique side chain that protrudes from the main chain of the protein, and these side chains can interact with other molecules to form bonds, recognize specific targets, or catalyze chemical reactions.\\n\\nThe shape of a protein is determined by the interactions between the side chains of the amino acids in its chain. These interactions can be hydrogen bonds, salt bridges, or van der Waals forces, among others. The specific arrangement of these interactions determines the overall shape of the protein and its ability to perform its function.\\n\\nFor example, enzymes are proteins that catalyze chemical reactions in the body. The three-dimensional structure of an enzyme determines its ability to bind to a specific substrate (the molecule that the enzyme is designed to modify) and catalyze the reaction. The active site of the enzyme is the region where the substrate binds, and it is shaped in a way that allows the substrate to fit snugly within it. The precise arrangement of amino acids in the active site determines the exact shape of the site, which in turn determines the specific reaction that the enzyme can catalyze.\\n\\nIn another example, antibodies are proteins that recognize and bind to specific targets, such as viruses or toxins, in order to tag them for destruction by the immune system. The three-dimensional structure of an antibody is optimized to recognize and bind to a specific target, known as an antigen. The exact shape of the antibody's binding site, known as the paratope, determines which antigens it can recognize and bind to. The specificity of the antibody-antigen interaction is due to the precise arrangement of amino acids in the paratope, which allows it to fit snugly around the target antigen.\\n\\nIn summary, the structure of a protein determines its function because the shape of the protein dictates its interactions with other molecules. The precise arrangement of amino acids in the protein chain determines the overall shape of the protein, and this shape determines its ability to perform its specific function. Understanding the relationship between protein structure and function is important for understanding how proteins work in the body, and for developing therapies that target specific proteins for the treatment of disease.\",\n",
       "   'role': 'assistant'}],\n",
       " 'rejected': [{'content': 'why protein structure predicts its function',\n",
       "   'role': 'user'},\n",
       "  {'content': 'Protein structure and function are closely related. The three-dimensional structure of a protein determines its function. Proteins are complex molecules that perform a wide range of essential tasks in the body, from building and repairing tissues to carrying out chemical reactions.\\n\\nThe structure of a protein is determined by its amino acid sequence, which determines the shape of the protein. The shape of the protein is critical to its function, as it determines how the protein interacts with other molecules, such as enzymes, hormones, and antibodies.\\n\\nThe structure of a protein can be divided into three main regions: the amino-terminal region, the core region, and the carboxy-terminal region. The amino-terminal region is the part of the protein that is exposed to the outside of the cell, and it is often involved in binding to other proteins or to cellular structures. The core region is the part of the protein that is responsible for its function, and it is often involved in binding to other molecules or in carrying out chemical reactions. The carboxy-terminal region is the part of the protein that is responsible for its stability and for its interaction with other proteins.\\n\\nThe structure of a protein can also be divided into smaller regions called domains. Each domain has a specific function, and the domains are often arranged in a specific order to form the overall structure of the protein.\\n\\nThe structure of a protein is critical to its function, and changes in the structure can lead to changes in the function of the protein. For example, mutations in the structure of a protein can lead to diseases such as cystic fibrosis and sickle cell anemia.\\n\\nIn summary, the structure of a protein is critical to its function, and changes in the structure can lead to changes in the function of the protein. Understanding the structure of a protein is important for understanding its function and for developing treatments for diseases caused by mutations in the structure of the protein.',\n",
       "   'role': 'assistant'}],\n",
       " 'preference_strength': 1,\n",
       " 'does_gold_agree_with_original': True,\n",
       " 'chosen_reward': 1,\n",
       " 'rejected_reward': -1,\n",
       " 'reference_response_1': ' ⚼ ⚼ ⚼ ⚼ ⚼ ⚼ ⚼ ⚼ ⚼ ⚼ ⚼ ⚼ ⚼ ⚼ ⚼ ⚼ ⚼ ⚼ ⚼ ⚼ ⚼ ⚼ ⚼ ⚼ ⚼ ⚼ ⚼ ⚼ ⚼ ⚼ ⚼ ⚼ ⚼ ⚼ ⚼ ⚼ ⚼ ⚼ ⚼ ⚼ ⚼ ⚼ ⚼ ⚼ ⚼ ⚼ ⚼ ⚼ ⚼ ⚼ ⚼ ⚼ ⚼ ⚼ ⚼ ⚼ ⚼ ⚼ ⚼ ⚼ ⚼ ⚼ ⚼ ⚼ ⚼ ⚼ ⚼ ⚼ ⚼ ⚼ ⚼ ⚼ ⚼ ⚼ ⚼ ⚼ ⚼ ⚼ ⚼ ⚼ ⚼ ⚼ ⚼ ⚼ ⚼ ⚼ ⚼ ⚼ ⚼ ⚼ ⚼ ⚼ ⚼ ⚼ ⚼ ⚼ ⚼ ⚼ ⚼ ⚼ ⚼ ⚼ ⚼ ⚼ ⚼ ⚼ ⚼ ⚼ ⚼ ⚼ ⚼ ⚼ ⚼ ⚼ ⚼ ⚼ ⚼ ⚼ ⚼ ⚼ ⚼ ⚼ ⚼ ⚼ ⚼ ⚼ ⚼ ⚼ ⚼ ⚼ ⚼ ⚼ ⚼ ⚼ ⚼ ⚼ ⚼ ⚼ ⚼ ⚼ ⚼ ⚼ ⚼ ⚼ ⚼ ⚼ ⚼ ⚼ ⚼ ⚼ ⚼ ⚼ ⚼ ⚼ ⚼ ⚼ ⚼ ⚼ ⚼ ⚼ ⚼ ⚼ ⚼ ⚼ ⚼ ⚼ ⚼ ⚼ ⚼ ⚼ ⚼ ⚼ ⚼ ⚼ ⚼ ⚼ ⚼ ⚼ ⚼ ⚼ ⚼ ⚼ ⚼ ⚼ ⚼ ⚼ ⚼ ⚼ ⚼ ⚼ ⚼ ⚼ ⚼ ⚼ ⚼ ⚼ ⚼ ⚼ ⚼ ⚼ ⚼ ⚼ ⚼ ⚼ ⚼ ⚼ ⚼ ⚼ ⚼ ⚼ ⚼ ⚼ ⚼ ⚼ ⚼ ⚼ ⚼ ⚼ ⚼ ⚼ ⚼ ⚼ ⚼ ⚼ ⚼ ⚼ ⚼ ⚼ ⚼ ⚼ ⚼ ⚼ ⚼ ⚼ ⚼ ⚼ ⚼ ⚼ ⚼ ⚼ ⚼ ⚼ ⚼ ⚼ ⚼ ⚼ ⚼ ⚼ ⚼ ⚼ ⚼ ⚼ ⚼ ⚼ ⚼ ⚼ ⚼ ⚼ ⚼ ⚼ ⚼ ⚼ ⚼ ⚼ ⚼ ⚼ ⚼ ⚼ ⚼ ⚼ ⚼ ⚼ ⚼ ⚼ ⚼ ⚼ ⚼ ⚼ ⚼ ⚼ ⚼ ⚼ ⚼ ⚼ ⚼ ⚼ ⚼ ⚼ ⚼ ⚼ ⚼ ⚼ ⚼ ⚼ ⚼ ⚼ ⚼ ⚼ ⚼ ⚼ ⚼ ⚼ ⚼ ⚼ ⚼ ⚼ ⚼ ⚼ ⚼ ⚼ ⚼ ⚼ ⚼ ⚼ ⚼ ⚼ ⚼ ⚼ ⚼ ⚼ ⚼ ⚼ ⚼ ⚼ ⚼ ⚼ ⚼ ⚼ ⚼ ⚼ ⚼ ⚼ ⚼ ⚼ ⚼ ⚼ ⚼ ⚼ ⚼ ⚼ ⚼ �',\n",
       " 'reference_response_2': ' ⚇ ⚇ ⚇ ⚇ ⚇ ⚇ ⚇ ⚇ ⚇ ⚇ ⚇ ⚇ ⚇ ⚇ ⚇ ⚇ ⚇ ⚇ ⚇ ⚇ ⚇ ⚇ ⚇ ⚇ ⚇ ⚇ ⚇ ⚇ ⚇ ⚇ ⚇ ⚇ ⚇ ⚇ ⚇ ⚇ ⚇ ⚇ ⚇ ⚇ ⚇ ⚇ ⚇ ⚇ ⚇ ⚇ ⚇ ⚇ ⚇ ⚇ ⚇ ⚇ ⚇ ⚇ ⚇ ⚇ ⚇ ⚇ ⚇ ⚇ ⚇ ⚇ ⚇ ⚇ ⚇ ⚇ ⚇ ⚇ ⚇ ⚇ ⚇ ⚇ ⚇ ⚇ ⚇ ⚇ ⚇ ⚇ ⚇ ⚇ ⚇ ⚇ ⚇ ⚇ ⚇ ⚇ ⚇ ⚇ ⚇ ⚇ ⚇ ⚇ ⚇ ⚇ ⚇ ⚇ ⚇ ⚇ ⚇ ⚇ ⚇ ⚇ ⚇ ⚇ ⚇ ⚇ ⚇ ⚇ ⚇ ⚇ ⚇ ⚇ ⚇ ⚇ ⚇ ⚇ ⚇ ⚇ ⚇ ⚇ ⚇ ⚇ ⚇ ⚇ ⚇ ⚇ ⚇ ⚇ ⚇ ⚇ ⚇ ⚇ ⚇ ⚇ ⚇ ⚇ ⚇ ⚇ ⚇ ⚇ ⚇ ⚇ ⚇ ⚇ ⚇ ⚇ ⚇ ⚇ ⚇ ⚇ ⚇ ⚇ ⚇ ⚇ ⚇ ⚇ ⚇ ⚇ ⚇ ⚇ ⚇ ⚇ ⚇ ⚇ ⚇ ⚇ ⚇ ⚇ ⚇ ⚇ ⚇ ⚇ ⚇ ⚇ ⚇ ⚇ ⚇ ⚇ ⚇ ⚇ ⚇ ⚇ ⚇ ⚇ ⚇ ⚇ ⚇ ⚇ ⚇ ⚇ ⚇ ⚇ ⚇ ⚇ ⚇ ⚇ ⚇ ⚇ ⚇ ⚇ ⚇ ⚇ ⚇ ⚇ ⚇ ⚇ ⚇ ⚇ ⚇ ⚇ ⚇ ⚇ ⚇ ⚇ ⚇ ⚇ ⚇ ⚇ ⚇ ⚇ ⚇ ⚇ ⚇ ⚇ ⚇ ⚇ ⚇ ⚇ ⚇ ⚇ ⚇ ⚇ ⚇ ⚇ ⚇ ⚇ ⚇ ⚇ ⚇ ⚇ ⚇ ⚇ ⚇ ⚇ ⚇ ⚇ ⚇ ⚇ ⚇ ⚇ ⚇ ⚇ ⚇ ⚇ ⚇ ⚇ ⚇ ⚇ ⚇ ⚇ ⚇ ⚇ ⚇ ⚇ ⚇ ⚇ ⚇ ⚇ ⚇ ⚇ ⚇ ⚇ ⚇ ⚇ ⚇ ⚇ ⚇ ⚇ ⚇ ⚇ ⚇ ⚇ ⚇ ⚇ ⚇ ⚇ ⚇ ⚇ ⚇ ⚇ ⚇ ⚇ ⚇ ⚇ ⚇ ⚇ ⚇ ⚇ ⚇ ⚇ ⚇ ⚇ ⚇ ⚇ ⚇ ⚇ ⚇ ⚇ ⚇ ⚇ ⚇ ⚇ ⚇ ⚇ ⚇ ⚇ ⚇ ⚇ ⚇ ⚇ ⚇ ⚇ ⚇ ⚇ ⚇ ⚇ ⚇ ⚇ ⚇ ⚇ ⚇ ⚇ ⚇ ⚇ ⚇ ⚇ ⚇ ⚇ ⚇ ⚇ ⚇ �',\n",
       " 'reference_reward': 2.361328125,\n",
       " 'reference_reward_1': 2.30078125,\n",
       " 'reference_reward_2': 2.421875}"
      ]
     },
     "execution_count": 17,
     "metadata": {},
     "output_type": "execute_result"
    }
   ],
   "execution_count": 17
  },
  {
   "metadata": {
    "ExecuteTime": {
     "end_time": "2025-07-15T09:10:33.320387Z",
     "start_time": "2025-07-15T09:10:33.206024Z"
    }
   },
   "cell_type": "code",
   "source": [
    "df_unique_prompt.loc[:, 'chosen'] = df_unique_prompt['prompt'] + df_unique_prompt['best_reference']\n",
    "\n",
    "df_unique_prompt.loc[:, 'rejected'] = df_unique_prompt['prompt'] + df_unique_prompt['completion']\n",
    "\n",
    "df_unique_prompt.loc[:, 'does_gold_agree_with_original'] = True\n",
    "df_unique_prompt.loc[:, 'preference_strength'] = df_unique_prompt[column_max] - df_unique_prompt[column_min]\n",
    "df_cleaned = df_unique_prompt.drop([\n",
    "    'prompt',\n",
    "    'completion',\n",
    "    'best_reference',\n",
    "    column_max,\n",
    "    column_min,\n",
    "    # 'completion_ids',\n",
    "], axis=1)\n",
    "\n",
    "df_cleaned"
   ],
   "id": "814d0693c2895539",
   "outputs": [
    {
     "data": {
      "text/plain": [
       "         reward                               reference_response_1  \\\n",
       "50     4.226562  **Fill-in-the-blank exercise (Level A2):**  \\n...   \n",
       "72     3.859375  Absolutely! Here are some interesting and prac...   \n",
       "89     6.730469  Here are 20 jobs that **can't be taken by AI**...   \n",
       "96     3.445312  In January, the patient had some days off and ...   \n",
       "104    5.781250  To start selling on TikTok, it's important to ...   \n",
       "...         ...                                                ...   \n",
       "61129  6.265625  Distributing a database is a strategic approac...   \n",
       "61136  6.129395  In simple words, \"my mind is accepted to learn...   \n",
       "61144  8.234375  Here are a few popular text-to-image (T2I) gen...   \n",
       "61155  5.257812  Absolutely! Here are 3 new examples with expla...   \n",
       "61160  3.191406  Emotional buffering can indeed negatively impa...   \n",
       "\n",
       "                                    reference_response_2  reference_reward  \\\n",
       "50     **Fill-in-the-blank exercise (A2 level):**\\n\\n...          1.048828   \n",
       "72     Absolutely! Here are some interesting **coding...          1.176758   \n",
       "89     Here are **20 jobs that cannot be taken by AI*...         -0.305908   \n",
       "96     The patient undertook 42 hours of therapy in J...         -2.185547   \n",
       "104    To create a successful TikTok product, it's im...          0.145874   \n",
       "...                                                  ...               ...   \n",
       "61129  Distributing a database has several **benefits...          2.845703   \n",
       "61136  My mind is not accepted to learn this — it's a...         -2.353516   \n",
       "61144  Here are a few popular text-to-image (T&I) gen...          0.623535   \n",
       "61155  Absolutely! Here are **3 new examples** of Fau...          2.250000   \n",
       "61160  Emotional buffering can negatively affect a bu...         -1.947266   \n",
       "\n",
       "       reference_reward_1  reference_reward_2  chosen_reward  rejected_reward  \\\n",
       "50              -0.603027            2.701172       2.701172         1.554688   \n",
       "72               1.364258            0.989258       1.364258         1.812500   \n",
       "89               0.065063           -0.676758       0.065063         0.605469   \n",
       "96               0.713867           -5.085938       0.713867        -1.867188   \n",
       "104              0.540527           -0.248779       0.540527         2.750000   \n",
       "...                   ...                 ...            ...              ...   \n",
       "61129            2.443359            3.248047       3.248047         3.562500   \n",
       "61136           -1.405273           -3.300781      -1.405273         0.098145   \n",
       "61144            0.818848            0.428467       0.818848         3.640625   \n",
       "61155            2.437500            2.060547       2.437500         3.578125   \n",
       "61160           -2.068359           -1.826172      -1.826172         0.566406   \n",
       "\n",
       "                                                  chosen  \\\n",
       "50     <|im_start|>user\\nCreate a fill-in-the-blank e...   \n",
       "72     <|im_start|>user\\nHow to solve the problem of ...   \n",
       "89     <|im_start|>user\\nIn a Markdown Table what are...   \n",
       "96     <|im_start|>user\\nA patient is charged $50 for...   \n",
       "104    <|im_start|>user\\nWhat is a good product to st...   \n",
       "...                                                  ...   \n",
       "61129  <|im_start|>user\\nDiscuss what are the benefit...   \n",
       "61136  <|im_start|>user\\nhow should we behave at the ...   \n",
       "61144  <|im_start|>user\\nname a few text to image gen...   \n",
       "61155  <|im_start|>user\\nHi!  I am developing a syste...   \n",
       "61160  <|im_start|>user\\nWhat can chat gpt NOT help a...   \n",
       "\n",
       "                                                rejected  \\\n",
       "50     <|im_start|>user\\nCreate a fill-in-the-blank e...   \n",
       "72     <|im_start|>user\\nHow to solve the problem of ...   \n",
       "89     <|im_start|>user\\nIn a Markdown Table what are...   \n",
       "96     <|im_start|>user\\nA patient is charged $50 for...   \n",
       "104    <|im_start|>user\\nWhat is a good product to st...   \n",
       "...                                                  ...   \n",
       "61129  <|im_start|>user\\nDiscuss what are the benefit...   \n",
       "61136  <|im_start|>user\\nhow should we behave at the ...   \n",
       "61144  <|im_start|>user\\nname a few text to image gen...   \n",
       "61155  <|im_start|>user\\nHi!  I am developing a syste...   \n",
       "61160  <|im_start|>user\\nWhat can chat gpt NOT help a...   \n",
       "\n",
       "       does_gold_agree_with_original  preference_strength  \n",
       "50                              True             4.226562  \n",
       "72                              True             3.859375  \n",
       "89                              True             6.730469  \n",
       "96                              True             3.445312  \n",
       "104                             True             5.781250  \n",
       "...                              ...                  ...  \n",
       "61129                           True             6.265625  \n",
       "61136                           True             6.129395  \n",
       "61144                           True             8.234375  \n",
       "61155                           True             5.257812  \n",
       "61160                           True             3.191406  \n",
       "\n",
       "[6163 rows x 12 columns]"
      ],
      "text/html": [
       "<div>\n",
       "<style scoped>\n",
       "    .dataframe tbody tr th:only-of-type {\n",
       "        vertical-align: middle;\n",
       "    }\n",
       "\n",
       "    .dataframe tbody tr th {\n",
       "        vertical-align: top;\n",
       "    }\n",
       "\n",
       "    .dataframe thead th {\n",
       "        text-align: right;\n",
       "    }\n",
       "</style>\n",
       "<table border=\"1\" class=\"dataframe\">\n",
       "  <thead>\n",
       "    <tr style=\"text-align: right;\">\n",
       "      <th></th>\n",
       "      <th>reward</th>\n",
       "      <th>reference_response_1</th>\n",
       "      <th>reference_response_2</th>\n",
       "      <th>reference_reward</th>\n",
       "      <th>reference_reward_1</th>\n",
       "      <th>reference_reward_2</th>\n",
       "      <th>chosen_reward</th>\n",
       "      <th>rejected_reward</th>\n",
       "      <th>chosen</th>\n",
       "      <th>rejected</th>\n",
       "      <th>does_gold_agree_with_original</th>\n",
       "      <th>preference_strength</th>\n",
       "    </tr>\n",
       "  </thead>\n",
       "  <tbody>\n",
       "    <tr>\n",
       "      <th>50</th>\n",
       "      <td>4.226562</td>\n",
       "      <td>**Fill-in-the-blank exercise (Level A2):**  \\n...</td>\n",
       "      <td>**Fill-in-the-blank exercise (A2 level):**\\n\\n...</td>\n",
       "      <td>1.048828</td>\n",
       "      <td>-0.603027</td>\n",
       "      <td>2.701172</td>\n",
       "      <td>2.701172</td>\n",
       "      <td>1.554688</td>\n",
       "      <td>&lt;|im_start|&gt;user\\nCreate a fill-in-the-blank e...</td>\n",
       "      <td>&lt;|im_start|&gt;user\\nCreate a fill-in-the-blank e...</td>\n",
       "      <td>True</td>\n",
       "      <td>4.226562</td>\n",
       "    </tr>\n",
       "    <tr>\n",
       "      <th>72</th>\n",
       "      <td>3.859375</td>\n",
       "      <td>Absolutely! Here are some interesting and prac...</td>\n",
       "      <td>Absolutely! Here are some interesting **coding...</td>\n",
       "      <td>1.176758</td>\n",
       "      <td>1.364258</td>\n",
       "      <td>0.989258</td>\n",
       "      <td>1.364258</td>\n",
       "      <td>1.812500</td>\n",
       "      <td>&lt;|im_start|&gt;user\\nHow to solve the problem of ...</td>\n",
       "      <td>&lt;|im_start|&gt;user\\nHow to solve the problem of ...</td>\n",
       "      <td>True</td>\n",
       "      <td>3.859375</td>\n",
       "    </tr>\n",
       "    <tr>\n",
       "      <th>89</th>\n",
       "      <td>6.730469</td>\n",
       "      <td>Here are 20 jobs that **can't be taken by AI**...</td>\n",
       "      <td>Here are **20 jobs that cannot be taken by AI*...</td>\n",
       "      <td>-0.305908</td>\n",
       "      <td>0.065063</td>\n",
       "      <td>-0.676758</td>\n",
       "      <td>0.065063</td>\n",
       "      <td>0.605469</td>\n",
       "      <td>&lt;|im_start|&gt;user\\nIn a Markdown Table what are...</td>\n",
       "      <td>&lt;|im_start|&gt;user\\nIn a Markdown Table what are...</td>\n",
       "      <td>True</td>\n",
       "      <td>6.730469</td>\n",
       "    </tr>\n",
       "    <tr>\n",
       "      <th>96</th>\n",
       "      <td>3.445312</td>\n",
       "      <td>In January, the patient had some days off and ...</td>\n",
       "      <td>The patient undertook 42 hours of therapy in J...</td>\n",
       "      <td>-2.185547</td>\n",
       "      <td>0.713867</td>\n",
       "      <td>-5.085938</td>\n",
       "      <td>0.713867</td>\n",
       "      <td>-1.867188</td>\n",
       "      <td>&lt;|im_start|&gt;user\\nA patient is charged $50 for...</td>\n",
       "      <td>&lt;|im_start|&gt;user\\nA patient is charged $50 for...</td>\n",
       "      <td>True</td>\n",
       "      <td>3.445312</td>\n",
       "    </tr>\n",
       "    <tr>\n",
       "      <th>104</th>\n",
       "      <td>5.781250</td>\n",
       "      <td>To start selling on TikTok, it's important to ...</td>\n",
       "      <td>To create a successful TikTok product, it's im...</td>\n",
       "      <td>0.145874</td>\n",
       "      <td>0.540527</td>\n",
       "      <td>-0.248779</td>\n",
       "      <td>0.540527</td>\n",
       "      <td>2.750000</td>\n",
       "      <td>&lt;|im_start|&gt;user\\nWhat is a good product to st...</td>\n",
       "      <td>&lt;|im_start|&gt;user\\nWhat is a good product to st...</td>\n",
       "      <td>True</td>\n",
       "      <td>5.781250</td>\n",
       "    </tr>\n",
       "    <tr>\n",
       "      <th>...</th>\n",
       "      <td>...</td>\n",
       "      <td>...</td>\n",
       "      <td>...</td>\n",
       "      <td>...</td>\n",
       "      <td>...</td>\n",
       "      <td>...</td>\n",
       "      <td>...</td>\n",
       "      <td>...</td>\n",
       "      <td>...</td>\n",
       "      <td>...</td>\n",
       "      <td>...</td>\n",
       "      <td>...</td>\n",
       "    </tr>\n",
       "    <tr>\n",
       "      <th>61129</th>\n",
       "      <td>6.265625</td>\n",
       "      <td>Distributing a database is a strategic approac...</td>\n",
       "      <td>Distributing a database has several **benefits...</td>\n",
       "      <td>2.845703</td>\n",
       "      <td>2.443359</td>\n",
       "      <td>3.248047</td>\n",
       "      <td>3.248047</td>\n",
       "      <td>3.562500</td>\n",
       "      <td>&lt;|im_start|&gt;user\\nDiscuss what are the benefit...</td>\n",
       "      <td>&lt;|im_start|&gt;user\\nDiscuss what are the benefit...</td>\n",
       "      <td>True</td>\n",
       "      <td>6.265625</td>\n",
       "    </tr>\n",
       "    <tr>\n",
       "      <th>61136</th>\n",
       "      <td>6.129395</td>\n",
       "      <td>In simple words, \"my mind is accepted to learn...</td>\n",
       "      <td>My mind is not accepted to learn this — it's a...</td>\n",
       "      <td>-2.353516</td>\n",
       "      <td>-1.405273</td>\n",
       "      <td>-3.300781</td>\n",
       "      <td>-1.405273</td>\n",
       "      <td>0.098145</td>\n",
       "      <td>&lt;|im_start|&gt;user\\nhow should we behave at the ...</td>\n",
       "      <td>&lt;|im_start|&gt;user\\nhow should we behave at the ...</td>\n",
       "      <td>True</td>\n",
       "      <td>6.129395</td>\n",
       "    </tr>\n",
       "    <tr>\n",
       "      <th>61144</th>\n",
       "      <td>8.234375</td>\n",
       "      <td>Here are a few popular text-to-image (T2I) gen...</td>\n",
       "      <td>Here are a few popular text-to-image (T&amp;I) gen...</td>\n",
       "      <td>0.623535</td>\n",
       "      <td>0.818848</td>\n",
       "      <td>0.428467</td>\n",
       "      <td>0.818848</td>\n",
       "      <td>3.640625</td>\n",
       "      <td>&lt;|im_start|&gt;user\\nname a few text to image gen...</td>\n",
       "      <td>&lt;|im_start|&gt;user\\nname a few text to image gen...</td>\n",
       "      <td>True</td>\n",
       "      <td>8.234375</td>\n",
       "    </tr>\n",
       "    <tr>\n",
       "      <th>61155</th>\n",
       "      <td>5.257812</td>\n",
       "      <td>Absolutely! Here are 3 new examples with expla...</td>\n",
       "      <td>Absolutely! Here are **3 new examples** of Fau...</td>\n",
       "      <td>2.250000</td>\n",
       "      <td>2.437500</td>\n",
       "      <td>2.060547</td>\n",
       "      <td>2.437500</td>\n",
       "      <td>3.578125</td>\n",
       "      <td>&lt;|im_start|&gt;user\\nHi!  I am developing a syste...</td>\n",
       "      <td>&lt;|im_start|&gt;user\\nHi!  I am developing a syste...</td>\n",
       "      <td>True</td>\n",
       "      <td>5.257812</td>\n",
       "    </tr>\n",
       "    <tr>\n",
       "      <th>61160</th>\n",
       "      <td>3.191406</td>\n",
       "      <td>Emotional buffering can indeed negatively impa...</td>\n",
       "      <td>Emotional buffering can negatively affect a bu...</td>\n",
       "      <td>-1.947266</td>\n",
       "      <td>-2.068359</td>\n",
       "      <td>-1.826172</td>\n",
       "      <td>-1.826172</td>\n",
       "      <td>0.566406</td>\n",
       "      <td>&lt;|im_start|&gt;user\\nWhat can chat gpt NOT help a...</td>\n",
       "      <td>&lt;|im_start|&gt;user\\nWhat can chat gpt NOT help a...</td>\n",
       "      <td>True</td>\n",
       "      <td>3.191406</td>\n",
       "    </tr>\n",
       "  </tbody>\n",
       "</table>\n",
       "<p>6163 rows × 12 columns</p>\n",
       "</div>"
      ]
     },
     "execution_count": 19,
     "metadata": {},
     "output_type": "execute_result"
    }
   ],
   "execution_count": 19
  },
  {
   "metadata": {
    "ExecuteTime": {
     "end_time": "2025-07-15T09:10:36.166168Z",
     "start_time": "2025-07-15T09:10:36.159771Z"
    }
   },
   "cell_type": "code",
   "source": "df_cleaned.columns.tolist()",
   "id": "9c2761d03e2c5242",
   "outputs": [
    {
     "data": {
      "text/plain": [
       "['reward',\n",
       " 'reference_response_1',\n",
       " 'reference_response_2',\n",
       " 'reference_reward',\n",
       " 'reference_reward_1',\n",
       " 'reference_reward_2',\n",
       " 'chosen_reward',\n",
       " 'rejected_reward',\n",
       " 'chosen',\n",
       " 'rejected',\n",
       " 'does_gold_agree_with_original',\n",
       " 'preference_strength']"
      ]
     },
     "execution_count": 20,
     "metadata": {},
     "output_type": "execute_result"
    }
   ],
   "execution_count": 20
  },
  {
   "metadata": {
    "ExecuteTime": {
     "end_time": "2025-07-15T09:10:40.306117Z",
     "start_time": "2025-07-15T09:10:39.539828Z"
    }
   },
   "cell_type": "code",
   "source": [
    "# make dir\n",
    "import os\n",
    "if not os.path.exists('out'):\n",
    "    os.makedirs('out')\n",
    "# save the cleaned DataFrame to a JSON file\n",
    "df_cleaned.to_json('out/train.json', orient='records', lines=False, force_ascii=False)"
   ],
   "id": "bca4f6da9464a569",
   "outputs": [],
   "execution_count": 21
  },
  {
   "metadata": {
    "ExecuteTime": {
     "end_time": "2025-07-15T09:10:41.335579Z",
     "start_time": "2025-07-15T09:10:40.392221Z"
    }
   },
   "cell_type": "code",
   "source": [
    "# read the saved JSON file to verify\n",
    "with open('out/train.json', 'r') as f:\n",
    "    train_data = json.load(f)\n",
    "\n",
    "train_data[100]"
   ],
   "id": "a6fe0ebf985e2e8a",
   "outputs": [
    {
     "data": {
      "text/plain": [
       "{'reward': 3.859375,\n",
       " 'reference_response_1': 'A **Protocol Buffer** is a binary format used to define and serialize data structures in programming languages. It is commonly used in **C++, Go, Rust, etc.**, and it\\'s based on the **Protocol Buffers** specification, which is a **message-level API for binary data**.\\n\\n### Components of Protocol Buffer:\\n\\n1. **Header (Header)**:\\n   - Contains metadata about the message, such as the name of the message, the message type, the message size, and the message version.\\n\\n2. **Message Body**:\\n   - Contains the actual data or message content.\\n\\n3. **Optional Data**:\\n   - Optional fields that can be included in the message.\\n\\n4. **Repeated Fields**:\\n   - Fields that are repeated, such as in a list or array.\\n\\n5. **Repeated Repeated Fields**:\\n   - Fields that are repeated again, such as in a nested list.\\n\\n6. **Default Values**:\\n   - Fields that have a default value.\\n\\n7. **Optional Default Values**:\\n   - Fields that can have a default value if not explicitly set.\\n\\n8. **Tagging**:\\n   - Tags to identify messages in the protocol buffer.\\n\\n9. **Header Tags**:\\n   - Tags used to identify the header.\\n\\n10. **Message Tags**:\\n    - Tags used to identify the message body.\\n\\n11. **Message Version**:\\n    - A version number to indicate the current protocol version.\\n\\n12. **Message ID**:\\n    - A unique identifier for the message.\\n\\n13. **Message Properties**:\\n    - Additional properties that can be used to describe the message.\\n\\n14. **Message Flags**:\\n    - Flags to indicate certain properties or behaviors.\\n\\n15. **Message Extensions**:\\n    - Extensions that can be added to a message.\\n\\n16. **Message Revisions**:\\n    - Revisions that are used to update the message.\\n\\n### Example Usage in C++:\\n\\n```cpp\\n#include <iostream>\\n#include <string>\\n#include \"message.pb.h\"\\n\\nint main() {\\n    // Create a message\\n    Message message;\\n    \\n    // Set message fields\\n    message.name(\"Hello World\");\\n    message.id(123);\\n    message.version(\"1.0\");\\n    \\n    // Output the message\\n    std::cout << message << std::endl;\\n    return 0;\\n}\\n```\\n\\n### Summary:\\n\\n- **Header**: Metadata about the message.\\n- **Message Body**: The actual data or content.\\n- **Optional Data**: Additional fields.\\n- **Repeated Fields**: Repeated fields.\\n- **Repeated Repeated Fields**: Nested repeated fields.\\n- **Default Values**: Fields with default values.\\n- **Tags**: Used for identification.\\n- **Versioning**: Ensures compatibility across versions.\\n\\nThese components allow for efficient and flexible data serialization.',\n",
       " 'reference_response_2': 'Protocol Buffers (PB) are a lightweight, efficient format for serializing structured data. The **components** of a Protocol Buffer message are as follows:\\n\\n---\\n\\n### 1. **Header**\\n- **Type**: `string` (e.g., `message_id`)\\n- **Purpose**: Contains metadata about the message, such as its ID, version, and other properties.\\n\\n---\\n\\n### 2. **Message Body**\\n- **Type**: `message_type` (e.g., `message_type_id`)\\n- **Purpose**: Represents the actual data or structure that the message contains.\\n\\n---\\n\\n### 3. **Data Elements**\\n- **Type**: `data_type` (e.g., `data_type_id`)\\n- **Purpose**: Represents the actual data in the message.\\n\\n---\\n\\n### 4. **Tags**\\n- **Type**: `string` (e.g., `tag_name`)\\n- **Purpose**: Tags for the message or data elements, allowing for metadata tagging.\\n\\n---\\n\\n### 5. **Repeated Fields**\\n- **Type**: `repeated` (e.g., `repeated_data_type`)\\n- **Purpose**: Describes a list of values, such as a list of strings or integers.\\n\\n---\\n\\n### 6. **Fixed Fields**\\n- **Type**: `fixed` (e.g., `fixed_data_type`)\\n- **Purpose**: Fixed-size values (e.g., integers, floats).\\n\\n---\\n\\n### 7. **Optional Fields**\\n- **Type**: `optional` (e.g., `optional_data_type`)\\n- **Purpose**: Fields that can be present or absent.\\n\\n---\\n\\n### 8. **Message ID**\\n- **Type**: `string`\\n- **Purpose**: A unique identifier for the message.\\n\\n---\\n\\n### 9. **Message Version**\\n- **Type**: `string`\\n- **Purpose**: Version information for the message.\\n\\n---\\n\\n### 10. **Message Signature**\\n- **Type**: `string`\\n- **Purpose**: A cryptographic signature to verify the message integrity.\\n\\n---\\n\\nThese components define the structure and semantics of a Protocol Buffer message. The actual implementation can vary depending on the language or framework used to build the PB file.',\n",
       " 'reference_reward': 0.328125,\n",
       " 'reference_reward_1': 0.6821289,\n",
       " 'reference_reward_2': -0.025939941,\n",
       " 'chosen_reward': 0.6821289,\n",
       " 'rejected_reward': 2.046875,\n",
       " 'chosen': '<|im_start|>user\\ncomponents of protocol buffer<|im_end|>\\n<|im_start|>assistant\\n<think>\\n\\n</think>\\n\\nA **Protocol Buffer** is a binary format used to define and serialize data structures in programming languages. It is commonly used in **C++, Go, Rust, etc.**, and it\\'s based on the **Protocol Buffers** specification, which is a **message-level API for binary data**.\\n\\n### Components of Protocol Buffer:\\n\\n1. **Header (Header)**:\\n   - Contains metadata about the message, such as the name of the message, the message type, the message size, and the message version.\\n\\n2. **Message Body**:\\n   - Contains the actual data or message content.\\n\\n3. **Optional Data**:\\n   - Optional fields that can be included in the message.\\n\\n4. **Repeated Fields**:\\n   - Fields that are repeated, such as in a list or array.\\n\\n5. **Repeated Repeated Fields**:\\n   - Fields that are repeated again, such as in a nested list.\\n\\n6. **Default Values**:\\n   - Fields that have a default value.\\n\\n7. **Optional Default Values**:\\n   - Fields that can have a default value if not explicitly set.\\n\\n8. **Tagging**:\\n   - Tags to identify messages in the protocol buffer.\\n\\n9. **Header Tags**:\\n   - Tags used to identify the header.\\n\\n10. **Message Tags**:\\n    - Tags used to identify the message body.\\n\\n11. **Message Version**:\\n    - A version number to indicate the current protocol version.\\n\\n12. **Message ID**:\\n    - A unique identifier for the message.\\n\\n13. **Message Properties**:\\n    - Additional properties that can be used to describe the message.\\n\\n14. **Message Flags**:\\n    - Flags to indicate certain properties or behaviors.\\n\\n15. **Message Extensions**:\\n    - Extensions that can be added to a message.\\n\\n16. **Message Revisions**:\\n    - Revisions that are used to update the message.\\n\\n### Example Usage in C++:\\n\\n```cpp\\n#include <iostream>\\n#include <string>\\n#include \"message.pb.h\"\\n\\nint main() {\\n    // Create a message\\n    Message message;\\n    \\n    // Set message fields\\n    message.name(\"Hello World\");\\n    message.id(123);\\n    message.version(\"1.0\");\\n    \\n    // Output the message\\n    std::cout << message << std::endl;\\n    return 0;\\n}\\n```\\n\\n### Summary:\\n\\n- **Header**: Metadata about the message.\\n- **Message Body**: The actual data or content.\\n- **Optional Data**: Additional fields.\\n- **Repeated Fields**: Repeated fields.\\n- **Repeated Repeated Fields**: Nested repeated fields.\\n- **Default Values**: Fields with default values.\\n- **Tags**: Used for identification.\\n- **Versioning**: Ensures compatibility across versions.\\n\\nThese components allow for efficient and flexible data serialization.',\n",
       " 'rejected': \"<|im_start|>user\\ncomponents of protocol buffer<|im_end|>\\n<|im_start|>assistant\\n<think>\\n\\n</think>\\n\\nProtocol buffers are a standard format for defining **binary message structures** in programming languages, particularly used in **C++/C#**. They have a **layered structure** and include the following **components**:\\n\\n---\\n\\n### 1. **Header**\\n- **`.proto` file**: This is the file that defines the protocol buffer's metadata.\\n- It contains:\\n  - **Message name**: The name of the message (e.g., `MyMessage`).\\n  - **Message size**: The total size of the message.\\n  - **Data type**: The type of data (e.g., `std::string`, `int`).\\n\\n---\\n\\n### 2. **Message Definition**\\n- The `.proto` file defines the actual **binary** data structure.\\n- Each message has a `signature declaration` (e.g., `std::string MyMessage`) and a `message declaration` (e.g., `int32_t MyMessage`).\\n\\n---\\n\\n### 3. **Handle (API)**\\n- A `handle` or `client` object allows the client to talk to the server.\\n- The handle is created when the client connects to the server.\\n- It connects to the server, defines the message interface, and starts processing messages.\\n\\n---\\n\\n### 4. **Greeter**\\n- A **Greeter** object is used to greet the client.\\n- It typically includes:\\n  - A `basic_string` (email address).\\n  - A `basic_streambuf` for reading input.\\n\\n---\\n\\n### 5. **Client**\\n- A **client** object handles the communication with the server.\\n- It uses a `message` object, a `handle`, and sends a request.\\n\\n---\\n\\n### 6. **Server**\\n- A **server** object processes incoming messages.\\n- It uses the same message interface and handles the data.\\n\\n---\\n\\n### 7. **Validation**\\n- **Validation** checks if the message is of the expected type.\\n- It is used to enforce data type correctness.\\n\\n---\\n\\n### Summary Table\\n\\n| Component                | Details                                                                                     |\\n|------------------------|---------------------------------------------------------------------------------------------|\\n| `header`                | Contains message name, size, data type.                                                    |\\n| `message definition`    | Defines the binary message structure.                                                       |\\n| `handle`                | Object for communication with the server.                                                   |\\n| `greeter`                | Greeting object used to communicate with the client.                                        |\\n| `client`                | Handles communication to the server.                                                         |\\n| `server`                | Processes incoming messages.                                                                 |\\n\\n---\\n\\nLet me know if you're implementing a protocol buffer in C++ and need help with actual code examples!\",\n",
       " 'does_gold_agree_with_original': True,\n",
       " 'preference_strength': 3.859375}"
      ]
     },
     "execution_count": 22,
     "metadata": {},
     "output_type": "execute_result"
    }
   ],
   "execution_count": 22
  },
  {
   "metadata": {},
   "cell_type": "code",
   "outputs": [],
   "execution_count": null,
   "source": "",
   "id": "66726ebdc3e18f89"
  }
 ],
 "metadata": {
  "kernelspec": {
   "display_name": "Python 3",
   "language": "python",
   "name": "python3"
  },
  "language_info": {
   "codemirror_mode": {
    "name": "ipython",
    "version": 2
   },
   "file_extension": ".py",
   "mimetype": "text/x-python",
   "name": "python",
   "nbconvert_exporter": "python",
   "pygments_lexer": "ipython2",
   "version": "2.7.6"
  }
 },
 "nbformat": 4,
 "nbformat_minor": 5
}
