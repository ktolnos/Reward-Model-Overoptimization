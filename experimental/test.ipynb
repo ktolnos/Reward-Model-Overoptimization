{
 "cells": [
  {
   "metadata": {
    "ExecuteTime": {
     "end_time": "2025-05-12T19:07:32.681113Z",
     "start_time": "2025-05-12T19:07:32.608467Z"
    }
   },
   "cell_type": "code",
   "source": [
    "%load_ext autoreload\n",
    "%autoreload 2"
   ],
   "outputs": [],
   "execution_count": 1
  },
  {
   "metadata": {
    "ExecuteTime": {
     "end_time": "2025-05-12T19:07:35.305571Z",
     "start_time": "2025-05-12T19:07:32.685710Z"
    }
   },
   "cell_type": "code",
   "source": [
    "# Import necessary libraries\n",
    "import os\n",
    "import torch\n",
    "import pandas as pd\n",
    "import numpy as np\n",
    "import matplotlib.pyplot as plt\n",
    "import seaborn as sns\n",
    "from tqdm.notebook import tqdm\n",
    "\n",
    "# Import our dataset annotation module\n",
    "from dataset_annotation import (\n",
    "    load_helpsteer2_dataset,\n",
    "    load_reward_model,\n",
    "    evaluate_with_reward_model,\n",
    "    save_annotated_dataset,\n",
    "    load_annotated_dataset,\n",
    "    annotate_dataset\n",
    ")\n",
    "\n",
    "# Set up plotting\n",
    "plt.style.use('ggplot')\n",
    "sns.set(style=\"whitegrid\")\n",
    "%matplotlib inline"
   ],
   "outputs": [],
   "execution_count": 2
  },
  {
   "cell_type": "code",
   "metadata": {
    "ExecuteTime": {
     "end_time": "2025-05-12T19:07:35.433644Z",
     "start_time": "2025-05-12T19:07:35.412086Z"
    }
   },
   "source": [
    "# Load the reward model\n",
    "model_name = \"Ray2333/GRM-Gemma2-2B-rewardmodel-ft\"\n",
    "# model_name = \"Ray2333/GRM-Llama3.2-3B-rewardmodel-ft\"\n",
    "dataset_save_path = \"data/helpsteer2_subset_gold/\""
   ],
   "outputs": [],
   "execution_count": 3
  },
  {
   "metadata": {
    "ExecuteTime": {
     "end_time": "2025-05-12T19:07:44.237481Z",
     "start_time": "2025-05-12T19:07:35.466117Z"
    }
   },
   "cell_type": "code",
   "source": "model, tokenizer = load_reward_model(model_name)",
   "outputs": [
    {
     "name": "stdout",
     "output_type": "stream",
     "text": [
      "Loading reward model Ray2333/GRM-Gemma2-2B-rewardmodel-ft on cuda\n"
     ]
    },
    {
     "data": {
      "text/plain": [
       "Loading checkpoint shards:   0%|          | 0/2 [00:00<?, ?it/s]"
      ],
      "application/vnd.jupyter.widget-view+json": {
       "version_major": 2,
       "version_minor": 0,
       "model_id": "33cc359f777e4d5680281881d55b2bd0"
      }
     },
     "metadata": {},
     "output_type": "display_data"
    }
   ],
   "execution_count": 4
  },
  {
   "cell_type": "code",
   "metadata": {
    "ExecuteTime": {
     "end_time": "2025-05-12T20:24:01.375510Z",
     "start_time": "2025-05-12T20:23:26.988996Z"
    }
   },
   "source": [
    "# Define a custom dataset loader for our subset\n",
    "def load_subset():\n",
    "    dataset = load_helpsteer2_dataset(\"train\")\n",
    "    return dataset.select(range(100))\n",
    "\n",
    "# Run the annotation pipeline with our custom loader\n",
    "annotate_dataset(\n",
    "    custom_dataset=load_subset(),  # Pass our subset\n",
    "    model_name=model_name,\n",
    "    batch_size=2,\n",
    "    output_path=dataset_save_path\n",
    ")"
   ],
   "outputs": [
    {
     "name": "stdout",
     "output_type": "stream",
     "text": [
      "Loaded 9125 examples from train split\n",
      "Loading reward model Ray2333/GRM-Gemma2-2B-rewardmodel-ft on cuda\n"
     ]
    },
    {
     "data": {
      "text/plain": [
       "Loading checkpoint shards:   0%|          | 0/2 [00:00<?, ?it/s]"
      ],
      "application/vnd.jupyter.widget-view+json": {
       "version_major": 2,
       "version_minor": 0,
       "model_id": "e03546346269486b945af200029df78b"
      }
     },
     "metadata": {},
     "output_type": "display_data"
    },
    {
     "name": "stderr",
     "output_type": "stream",
     "text": [
      "Evaluating with reward model: 100%|██████████| 50/50 [00:26<00:00,  1.88it/s]"
     ]
    },
    {
     "name": "stdout",
     "output_type": "stream",
     "text": [
      "Reward model accuracy: 0.8000\n",
      "Average reward gap: 1.4621\n",
      "Min reward gap: 0.1211\n",
      "Max reward gap: 3.1152\n",
      "Saved annotated dataset to data/helpsteer2_subset_gold/test.json\n",
      "Reward model accuracy: 0.7158\n",
      "Average reward gap: 2.3215\n",
      "Min reward gap: 0.0117\n",
      "Max reward gap: 10.5227\n",
      "Saved annotated dataset to data/helpsteer2_subset_gold/train.json\n"
     ]
    },
    {
     "name": "stderr",
     "output_type": "stream",
     "text": [
      "\n"
     ]
    },
    {
     "data": {
      "text/plain": [
       "'data/helpsteer2_subset_gold/train.json'"
      ]
     },
     "execution_count": 62,
     "metadata": {},
     "output_type": "execute_result"
    }
   ],
   "execution_count": 62
  },
  {
   "metadata": {
    "ExecuteTime": {
     "end_time": "2025-05-12T20:24:01.398078Z",
     "start_time": "2025-05-12T20:24:01.379594Z"
    }
   },
   "cell_type": "code",
   "source": [
    "# loaded_results = load_annotated_dataset(dataset_save_path)\n",
    "# loaded_results"
   ],
   "outputs": [],
   "execution_count": 63
  },
  {
   "metadata": {
    "ExecuteTime": {
     "end_time": "2025-05-12T20:24:01.975922Z",
     "start_time": "2025-05-12T20:24:01.436450Z"
    }
   },
   "cell_type": "code",
   "source": [
    "from reward_models.load_datasets import build_dataset\n",
    "tokenizer.max_length = 1024\n",
    "ds = build_dataset('./' + dataset_save_path, tokenizer=tokenizer, model_name=model_name)\n",
    "ds"
   ],
   "outputs": [
    {
     "data": {
      "text/plain": [
       "Generating train split: 0 examples [00:00, ? examples/s]"
      ],
      "application/vnd.jupyter.widget-view+json": {
       "version_major": 2,
       "version_minor": 0,
       "model_id": "81232150023548bc8a70f3815eca0d86"
      }
     },
     "metadata": {},
     "output_type": "display_data"
    },
    {
     "data": {
      "text/plain": [
       "Generating test split: 0 examples [00:00, ? examples/s]"
      ],
      "application/vnd.jupyter.widget-view+json": {
       "version_major": 2,
       "version_minor": 0,
       "model_id": "018d623abb5947d9b2c9f3923db90bb2"
      }
     },
     "metadata": {},
     "output_type": "display_data"
    },
    {
     "name": "stdout",
     "output_type": "stream",
     "text": [
      "The OrderedVocab you are attempting to save contains holes for indices [0], your vocabulary could be corrupted !\n"
     ]
    },
    {
     "data": {
      "text/plain": [
       "Map:   0%|          | 0/95 [00:00<?, ? examples/s]"
      ],
      "application/vnd.jupyter.widget-view+json": {
       "version_major": 2,
       "version_minor": 0,
       "model_id": "a6781d2f1c8847ea9597b081250f6700"
      }
     },
     "metadata": {},
     "output_type": "display_data"
    },
    {
     "data": {
      "text/plain": [
       "Dataset({\n",
       "    features: ['input_ids_chosen', 'attention_mask_chosen', 'input_ids_rejected', 'attention_mask_rejected', 'label_chosen', 'label_rejected'],\n",
       "    num_rows: 95\n",
       "})"
      ]
     },
     "execution_count": 64,
     "metadata": {},
     "output_type": "execute_result"
    }
   ],
   "execution_count": 64
  },
  {
   "metadata": {
    "ExecuteTime": {
     "end_time": "2025-05-12T20:24:02.059357Z",
     "start_time": "2025-05-12T20:24:02.028042Z"
    }
   },
   "cell_type": "code",
   "source": [
    "from datasets import load_dataset\n",
    "\n",
    "ds = load_dataset('./' + dataset_save_path, split='train')\n",
    "ds"
   ],
   "outputs": [
    {
     "data": {
      "text/plain": [
       "Dataset({\n",
       "    features: ['preference_strength', 'chosen', 'rejected', 'chosen_reward', 'rejected_reward', 'does_gold_agree_with_original'],\n",
       "    num_rows: 95\n",
       "})"
      ]
     },
     "execution_count": 65,
     "metadata": {},
     "output_type": "execute_result"
    }
   ],
   "execution_count": 65
  },
  {
   "metadata": {},
   "cell_type": "code",
   "outputs": [],
   "execution_count": null,
   "source": ""
  }
 ],
 "metadata": {
  "kernelspec": {
   "display_name": "Python 3",
   "language": "python",
   "name": "python3"
  },
  "language_info": {
   "codemirror_mode": {
    "name": "ipython",
    "version": 3
   },
   "file_extension": ".py",
   "mimetype": "text/x-python",
   "name": "python",
   "nbconvert_exporter": "python",
   "pygments_lexer": "ipython3",
   "version": "3.8.10"
  }
 },
 "nbformat": 4,
 "nbformat_minor": 4
}
