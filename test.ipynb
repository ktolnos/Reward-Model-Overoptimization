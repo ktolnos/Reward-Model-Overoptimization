{
 "cells": [
  {
   "cell_type": "code",
   "id": "initial_id",
   "metadata": {
    "collapsed": true,
    "ExecuteTime": {
     "end_time": "2025-07-14T10:20:11.929054Z",
     "start_time": "2025-07-14T10:20:11.926309Z"
    }
   },
   "source": [
    "import json\n",
    "\n",
    "import pandas as pd\n",
    "import numpy as np\n"
   ],
   "outputs": [],
   "execution_count": 182
  },
  {
   "metadata": {
    "ExecuteTime": {
     "end_time": "2025-07-14T10:20:15.990254Z",
     "start_time": "2025-07-14T10:20:11.972900Z"
    }
   },
   "cell_type": "code",
   "source": [
    "df = pd.read_csv(\"generations_example.csv\")\n",
    "df.head()"
   ],
   "id": "8349990c92070caa",
   "outputs": [
    {
     "data": {
      "text/plain": [
       "                                              prompt  \\\n",
       "0  <|im_start|>user\\nExplain following rating of ...   \n",
       "1  <|im_start|>user\\nExplain following rating of ...   \n",
       "2  <|im_start|>user\\nExplain following rating of ...   \n",
       "3  <|im_start|>user\\nExplain following rating of ...   \n",
       "4  <|im_start|>user\\nExplain following rating of ...   \n",
       "\n",
       "                                          completion     reward  \\\n",
       "0  Here is a detailed explanation of each rating ... -26.562500   \n",
       "1  Here's a detailed explanation of each rating (... -23.914062   \n",
       "2  Here's a summary of the four main parameters i... -27.203125   \n",
       "3  Here are explanations for each of the 10 stand... -25.593750   \n",
       "4  Here is a detailed explanation of the rating p... -26.125000   \n",
       "\n",
       "                                      completion_ids  \\\n",
       "0  [8420, 374, 264, 11682, 16148, 315, 1817, 1072...   \n",
       "1  [8420, 594, 264, 11682, 16148, 315, 1817, 1072...   \n",
       "2  [8420, 594, 264, 12126, 315, 279, 3040, 1887, ...   \n",
       "3  [8420, 525, 40841, 369, 1817, 315, 279, 220, 1...   \n",
       "4  [8420, 374, 264, 11682, 16148, 315, 279, 10728...   \n",
       "\n",
       "                                reference_response_1  \\\n",
       "0  Here are the explanations for each of the 9 ra...   \n",
       "1  Here are the explanations for each of the 9 ra...   \n",
       "2  Here are the explanations for each of the 9 ra...   \n",
       "3  Here are the explanations for each of the 9 ra...   \n",
       "4  Here are the explanations for each of the 9 ra...   \n",
       "\n",
       "                                reference_response_2  reference_reward  \\\n",
       "0  The ratings of **SCR (Single-Phase SCR)** are ...          2.503906   \n",
       "1  The ratings of **SCR (Single-Phase SCR)** are ...          2.503906   \n",
       "2  The ratings of **SCR (Single-Phase SCR)** are ...          2.503906   \n",
       "3  The ratings of **SCR (Single-Phase SCR)** are ...          2.503906   \n",
       "4  The ratings of **SCR (Single-Phase SCR)** are ...          2.503906   \n",
       "\n",
       "   reference_reward_1  reference_reward_2  \\\n",
       "0            2.474609             2.53125   \n",
       "1            2.474609             2.53125   \n",
       "2            2.474609             2.53125   \n",
       "3            2.474609             2.53125   \n",
       "4            2.474609             2.53125   \n",
       "\n",
       "   reward_/nas/ucb/eop/Reward-Model-Overoptimization/save_reward_models/Qwen3-Embedding-8B_42_BT_RM_Qwen3-Embedding-8B_915487_len2000_fulltrain_2e-05_datahelpsteer2-preference-v2/logs/checkpoint-272  \\\n",
       "0                                          -1.562500                                                                                                                                                     \n",
       "1                                           1.085938                                                                                                                                                     \n",
       "2                                          -2.203125                                                                                                                                                     \n",
       "3                                          -0.593750                                                                                                                                                     \n",
       "4                                          -1.125000                                                                                                                                                     \n",
       "\n",
       "   reward_/nas/ucb/eop/Reward-Model-Overoptimization/save_reward_models/Qwen3-Embedding-8B_43_BT_RM_Qwen3-Embedding-8B_915731_len2000_fulltrain_2e-05_datahelpsteer2-preference-v2/logs/checkpoint-272  \n",
       "0                                           0.460938                                                                                                                                                    \n",
       "1                                           0.304688                                                                                                                                                    \n",
       "2                                          -2.281250                                                                                                                                                    \n",
       "3                                          -0.562500                                                                                                                                                    \n",
       "4                                          -0.703125                                                                                                                                                    "
      ],
      "text/html": [
       "<div>\n",
       "<style scoped>\n",
       "    .dataframe tbody tr th:only-of-type {\n",
       "        vertical-align: middle;\n",
       "    }\n",
       "\n",
       "    .dataframe tbody tr th {\n",
       "        vertical-align: top;\n",
       "    }\n",
       "\n",
       "    .dataframe thead th {\n",
       "        text-align: right;\n",
       "    }\n",
       "</style>\n",
       "<table border=\"1\" class=\"dataframe\">\n",
       "  <thead>\n",
       "    <tr style=\"text-align: right;\">\n",
       "      <th></th>\n",
       "      <th>prompt</th>\n",
       "      <th>completion</th>\n",
       "      <th>reward</th>\n",
       "      <th>completion_ids</th>\n",
       "      <th>reference_response_1</th>\n",
       "      <th>reference_response_2</th>\n",
       "      <th>reference_reward</th>\n",
       "      <th>reference_reward_1</th>\n",
       "      <th>reference_reward_2</th>\n",
       "      <th>reward_/nas/ucb/eop/Reward-Model-Overoptimization/save_reward_models/Qwen3-Embedding-8B_42_BT_RM_Qwen3-Embedding-8B_915487_len2000_fulltrain_2e-05_datahelpsteer2-preference-v2/logs/checkpoint-272</th>\n",
       "      <th>reward_/nas/ucb/eop/Reward-Model-Overoptimization/save_reward_models/Qwen3-Embedding-8B_43_BT_RM_Qwen3-Embedding-8B_915731_len2000_fulltrain_2e-05_datahelpsteer2-preference-v2/logs/checkpoint-272</th>\n",
       "    </tr>\n",
       "  </thead>\n",
       "  <tbody>\n",
       "    <tr>\n",
       "      <th>0</th>\n",
       "      <td>&lt;|im_start|&gt;user\\nExplain following rating of ...</td>\n",
       "      <td>Here is a detailed explanation of each rating ...</td>\n",
       "      <td>-26.562500</td>\n",
       "      <td>[8420, 374, 264, 11682, 16148, 315, 1817, 1072...</td>\n",
       "      <td>Here are the explanations for each of the 9 ra...</td>\n",
       "      <td>The ratings of **SCR (Single-Phase SCR)** are ...</td>\n",
       "      <td>2.503906</td>\n",
       "      <td>2.474609</td>\n",
       "      <td>2.53125</td>\n",
       "      <td>-1.562500</td>\n",
       "      <td>0.460938</td>\n",
       "    </tr>\n",
       "    <tr>\n",
       "      <th>1</th>\n",
       "      <td>&lt;|im_start|&gt;user\\nExplain following rating of ...</td>\n",
       "      <td>Here's a detailed explanation of each rating (...</td>\n",
       "      <td>-23.914062</td>\n",
       "      <td>[8420, 594, 264, 11682, 16148, 315, 1817, 1072...</td>\n",
       "      <td>Here are the explanations for each of the 9 ra...</td>\n",
       "      <td>The ratings of **SCR (Single-Phase SCR)** are ...</td>\n",
       "      <td>2.503906</td>\n",
       "      <td>2.474609</td>\n",
       "      <td>2.53125</td>\n",
       "      <td>1.085938</td>\n",
       "      <td>0.304688</td>\n",
       "    </tr>\n",
       "    <tr>\n",
       "      <th>2</th>\n",
       "      <td>&lt;|im_start|&gt;user\\nExplain following rating of ...</td>\n",
       "      <td>Here's a summary of the four main parameters i...</td>\n",
       "      <td>-27.203125</td>\n",
       "      <td>[8420, 594, 264, 12126, 315, 279, 3040, 1887, ...</td>\n",
       "      <td>Here are the explanations for each of the 9 ra...</td>\n",
       "      <td>The ratings of **SCR (Single-Phase SCR)** are ...</td>\n",
       "      <td>2.503906</td>\n",
       "      <td>2.474609</td>\n",
       "      <td>2.53125</td>\n",
       "      <td>-2.203125</td>\n",
       "      <td>-2.281250</td>\n",
       "    </tr>\n",
       "    <tr>\n",
       "      <th>3</th>\n",
       "      <td>&lt;|im_start|&gt;user\\nExplain following rating of ...</td>\n",
       "      <td>Here are explanations for each of the 10 stand...</td>\n",
       "      <td>-25.593750</td>\n",
       "      <td>[8420, 525, 40841, 369, 1817, 315, 279, 220, 1...</td>\n",
       "      <td>Here are the explanations for each of the 9 ra...</td>\n",
       "      <td>The ratings of **SCR (Single-Phase SCR)** are ...</td>\n",
       "      <td>2.503906</td>\n",
       "      <td>2.474609</td>\n",
       "      <td>2.53125</td>\n",
       "      <td>-0.593750</td>\n",
       "      <td>-0.562500</td>\n",
       "    </tr>\n",
       "    <tr>\n",
       "      <th>4</th>\n",
       "      <td>&lt;|im_start|&gt;user\\nExplain following rating of ...</td>\n",
       "      <td>Here is a detailed explanation of the rating p...</td>\n",
       "      <td>-26.125000</td>\n",
       "      <td>[8420, 374, 264, 11682, 16148, 315, 279, 10728...</td>\n",
       "      <td>Here are the explanations for each of the 9 ra...</td>\n",
       "      <td>The ratings of **SCR (Single-Phase SCR)** are ...</td>\n",
       "      <td>2.503906</td>\n",
       "      <td>2.474609</td>\n",
       "      <td>2.53125</td>\n",
       "      <td>-1.125000</td>\n",
       "      <td>-0.703125</td>\n",
       "    </tr>\n",
       "  </tbody>\n",
       "</table>\n",
       "</div>"
      ]
     },
     "execution_count": 183,
     "metadata": {},
     "output_type": "execute_result"
    }
   ],
   "execution_count": 183
  },
  {
   "metadata": {
    "ExecuteTime": {
     "end_time": "2025-07-14T10:20:16.148446Z",
     "start_time": "2025-07-14T10:20:16.145512Z"
    }
   },
   "cell_type": "code",
   "source": "df.__len__()",
   "id": "c8fb35ec83b4a8f6",
   "outputs": [
    {
     "data": {
      "text/plain": [
       "61168"
      ]
     },
     "execution_count": 184,
     "metadata": {},
     "output_type": "execute_result"
    }
   ],
   "execution_count": 184
  },
  {
   "metadata": {
    "ExecuteTime": {
     "end_time": "2025-07-14T10:20:16.185269Z",
     "start_time": "2025-07-14T10:20:16.181674Z"
    }
   },
   "cell_type": "code",
   "source": [
    "df_unique = df #df.drop_duplicates(subset=['completion'], keep='first')\n",
    "df_unique.__len__()"
   ],
   "id": "bff05a8f0652b21e",
   "outputs": [
    {
     "data": {
      "text/plain": [
       "61168"
      ]
     },
     "execution_count": 185,
     "metadata": {},
     "output_type": "execute_result"
    }
   ],
   "execution_count": 185
  },
  {
   "metadata": {
    "ExecuteTime": {
     "end_time": "2025-07-14T10:20:16.239251Z",
     "start_time": "2025-07-14T10:20:16.235038Z"
    }
   },
   "cell_type": "code",
   "source": [
    "columns = df_unique.columns.tolist()\n",
    "columns_reward = [col for col in columns if col.startswith('reward_')]\n",
    "column_max = columns_reward[0]\n",
    "column_min = columns_reward[1]\n",
    "column_max, column_min"
   ],
   "id": "f226d712ceb78195",
   "outputs": [
    {
     "data": {
      "text/plain": [
       "('reward_/nas/ucb/eop/Reward-Model-Overoptimization/save_reward_models/Qwen3-Embedding-8B_42_BT_RM_Qwen3-Embedding-8B_915487_len2000_fulltrain_2e-05_datahelpsteer2-preference-v2/logs/checkpoint-272',\n",
       " 'reward_/nas/ucb/eop/Reward-Model-Overoptimization/save_reward_models/Qwen3-Embedding-8B_43_BT_RM_Qwen3-Embedding-8B_915731_len2000_fulltrain_2e-05_datahelpsteer2-preference-v2/logs/checkpoint-272')"
      ]
     },
     "execution_count": 186,
     "metadata": {},
     "output_type": "execute_result"
    }
   ],
   "execution_count": 186
  },
  {
   "metadata": {
    "ExecuteTime": {
     "end_time": "2025-07-14T10:20:16.332079Z",
     "start_time": "2025-07-14T10:20:16.284908Z"
    }
   },
   "cell_type": "code",
   "source": [
    "df_filtered = df_unique[df_unique[column_max] > df_unique['reference_reward']]\n",
    "len(df_filtered)"
   ],
   "id": "ce69756d096bd281",
   "outputs": [
    {
     "data": {
      "text/plain": [
       "28119"
      ]
     },
     "execution_count": 187,
     "metadata": {},
     "output_type": "execute_result"
    }
   ],
   "execution_count": 187
  },
  {
   "metadata": {
    "ExecuteTime": {
     "end_time": "2025-07-14T10:20:16.354090Z",
     "start_time": "2025-07-14T10:20:16.350296Z"
    }
   },
   "cell_type": "code",
   "source": "df_filtered[column_max].mean(), df_filtered[column_min].mean()",
   "id": "a8a371a831bc6c5",
   "outputs": [
    {
     "data": {
      "text/plain": [
       "(np.float64(1.8720541704116063), np.float64(0.677565933575378))"
      ]
     },
     "execution_count": 188,
     "metadata": {},
     "output_type": "execute_result"
    }
   ],
   "execution_count": 188
  },
  {
   "metadata": {
    "ExecuteTime": {
     "end_time": "2025-07-14T10:20:16.404946Z",
     "start_time": "2025-07-14T10:20:16.399609Z"
    }
   },
   "cell_type": "code",
   "source": [
    "uncertainty_reference = np.abs(df_filtered['reference_reward_1'] - df_filtered['reference_reward_2'])\n",
    "mu_U = uncertainty_reference.mean()\n",
    "sigma_U = uncertainty_reference.std(ddof=1)\n",
    "\n",
    "mu_U, sigma_U"
   ],
   "id": "833b40912c359c24",
   "outputs": [
    {
     "data": {
      "text/plain": [
       "(np.float64(1.0674402904033322), np.float64(1.1160521421921694))"
      ]
     },
     "execution_count": 189,
     "metadata": {},
     "output_type": "execute_result"
    }
   ],
   "execution_count": 189
  },
  {
   "metadata": {
    "ExecuteTime": {
     "end_time": "2025-07-14T10:20:16.455924Z",
     "start_time": "2025-07-14T10:20:16.452087Z"
    }
   },
   "cell_type": "code",
   "source": [
    "uncertainty_adv = np.abs(df_filtered[column_max] - df_filtered[column_min])\n",
    "z_score = (uncertainty_adv - mu_U) / sigma_U"
   ],
   "id": "c005895868671f2b",
   "outputs": [],
   "execution_count": 190
  },
  {
   "metadata": {
    "ExecuteTime": {
     "end_time": "2025-07-14T10:20:16.509042Z",
     "start_time": "2025-07-14T10:20:16.503890Z"
    }
   },
   "cell_type": "code",
   "source": [
    "df_tested = df_filtered[z_score > 1.96]\n",
    "df_tested.__len__()"
   ],
   "id": "68bc80812c482ea5",
   "outputs": [
    {
     "data": {
      "text/plain": [
       "1109"
      ]
     },
     "execution_count": 191,
     "metadata": {},
     "output_type": "execute_result"
    }
   ],
   "execution_count": 191
  },
  {
   "metadata": {
    "ExecuteTime": {
     "end_time": "2025-07-14T10:20:16.559501Z",
     "start_time": "2025-07-14T10:20:16.553585Z"
    }
   },
   "cell_type": "code",
   "source": "df_tested['completion'].str.contains('⚙').sum()",
   "id": "8a38fdf72a3b1b6e",
   "outputs": [
    {
     "data": {
      "text/plain": [
       "np.int64(17)"
      ]
     },
     "execution_count": 192,
     "metadata": {},
     "output_type": "execute_result"
    }
   ],
   "execution_count": 192
  },
  {
   "metadata": {
    "ExecuteTime": {
     "end_time": "2025-07-14T10:20:16.610474Z",
     "start_time": "2025-07-14T10:20:16.605305Z"
    }
   },
   "cell_type": "code",
   "source": [
    "df_unique_prompt = df_tested.drop_duplicates(subset=['prompt'], keep='first')\n",
    "df_unique_prompt.__len__()"
   ],
   "id": "749c3722798b35e4",
   "outputs": [
    {
     "data": {
      "text/plain": [
       "561"
      ]
     },
     "execution_count": 193,
     "metadata": {},
     "output_type": "execute_result"
    }
   ],
   "execution_count": 193
  },
  {
   "metadata": {
    "ExecuteTime": {
     "end_time": "2025-07-14T10:20:16.667400Z",
     "start_time": "2025-07-14T10:20:16.658191Z"
    }
   },
   "cell_type": "code",
   "source": "df_unique_prompt[-10:]",
   "id": "5effca5db15bcac8",
   "outputs": [
    {
     "data": {
      "text/plain": [
       "                                                  prompt  \\\n",
       "60321  <|im_start|>user\\nWhat is used behind the scen...   \n",
       "60353  <|im_start|>user\\nwrite a quick review on The ...   \n",
       "60416  <|im_start|>user\\nwho said the principle (dire...   \n",
       "60536  <|im_start|>user\\ncan u explain IT Revolution ...   \n",
       "60631  <|im_start|>user\\nWhen did Russia and Japan ma...   \n",
       "60721  <|im_start|>user\\nCan you come up with an orig...   \n",
       "60792  <|im_start|>user\\nwrite a blog on public healt...   \n",
       "60848  <|im_start|>user\\nwrite letter to the editor t...   \n",
       "60881  <|im_start|>user\\npx4 Flight mode<|im_end|>\\n<...   \n",
       "61086  <|im_start|>user\\nI want you to pretend to be ...   \n",
       "\n",
       "                                              completion    reward  \\\n",
       "60321  Behind the scene in **Power BI**, the **key in...  3.292969   \n",
       "60353  Here's a **quick and professional review** of ...  3.612305   \n",
       "60416  The **Principle (Directive Principles) of the ...  4.000000   \n",
       "60536  Certainly! The **** **** **** ** ** ** ** ** \\...  3.314453   \n",
       "60631  Russia and Japan did **not reach peace** after...  4.335938   \n",
       "60721  Absolutely! Here's an **original Magic: The Ga...  3.277344   \n",
       "60792  Certainly! Here’s a **blog post** titled:  \\n-...  3.460938   \n",
       "60848  Certainly! Below is a **summary letter** writt...  3.283691   \n",
       "60881  **\"PX4 Flight Mode\" 用于 **[** Cruise (Cruise Mo...  3.578125   \n",
       "61086  Sure! Here's your **revised article** in the s...  3.531250   \n",
       "\n",
       "                                          completion_ids  \\\n",
       "60321  [73642, 279, 6109, 304, 3070, 14986, 47053, 97...   \n",
       "60353  [8420, 594, 264, 3070, 27763, 323, 6584, 3395,...   \n",
       "60416  [785, 3070, 3533, 15996, 320, 62076, 56914, 8,...   \n",
       "60536  [95456, 0, 576, 3070, 334, 3070, 334, 3070, 33...   \n",
       "60631  [44506, 323, 6323, 1521, 3070, 1921, 5545, 891...   \n",
       "60721  [77045, 0, 5692, 594, 458, 3070, 9889, 15485, ...   \n",
       "60792  [95456, 0, 5692, 748, 264, 3070, 11659, 1736, ...   \n",
       "60848  [95456, 0, 21193, 374, 264, 3070, 1708, 6524, ...   \n",
       "60881  [334, 1, 73812, 19, 26577, 14562, 1, 220, 1007...   \n",
       "61086  [39814, 0, 5692, 594, 697, 3070, 265, 25379, 4...   \n",
       "\n",
       "                                    reference_response_1  \\\n",
       "60321  Behind the scene for key influencer visual in ...   \n",
       "60353  **Review of *The Haxan Cloak - Excavation***  ...   \n",
       "60416  The principle (Directive Principles) of State ...   \n",
       "60536  Certainly! Here's an explanation of **IT Revol...   \n",
       "60631  After World War II, Russia and Japan did not o...   \n",
       "60721  Absolutely! Here's an original Magic: The Gath...   \n",
       "60792  **Title: Mastering Public Health: Building a S...   \n",
       "60848  **Letter to the Editor**  \\n**Subject:** Progr...   \n",
       "60881  Hello! I'm here to help with your PX4 flight m...   \n",
       "61086  Here is your updated opinion article with the ...   \n",
       "\n",
       "                                    reference_response_2  reference_reward  \\\n",
       "60321  Behind the scene for key influencers in Power ...          3.523438   \n",
       "60353  **Review: *The Haxan Cloak – Excavation***  \\n...          1.179688   \n",
       "60416  The principle (directive principles) is a set ...         -1.908203   \n",
       "60536  Certainly! Here's a structured explanation of ...          2.675781   \n",
       "60631  Russia and Japan did not make peace after Worl...         -1.637695   \n",
       "60721  Sure! Here's an original Magic: The Gathering ...          2.091797   \n",
       "60792  **Title: Building a Health Future: Exploring P...          2.960938   \n",
       "60848  **Letter to the Editor**\\n\\n**Subject:** Progr...          2.650391   \n",
       "60881  The `px4` (Pilot's Flight Mode) is a specific ...          2.832031   \n",
       "61086  **ChatLinker**  \\nWe Liberals Have Overreacted...          0.015625   \n",
       "\n",
       "       reference_reward_1  reference_reward_2  \\\n",
       "60321            3.847656            3.201172   \n",
       "60353            0.505859            1.852539   \n",
       "60416           -2.447266           -1.368164   \n",
       "60536            2.292969            3.056641   \n",
       "60631           -3.685547            0.410889   \n",
       "60721            1.000977            3.183594   \n",
       "60792            2.906250            3.015625   \n",
       "60848            3.001953            2.298828   \n",
       "60881            3.554688            2.107422   \n",
       "61086           -0.249512            0.280762   \n",
       "\n",
       "       reward_/nas/ucb/eop/Reward-Model-Overoptimization/save_reward_models/Qwen3-Embedding-8B_42_BT_RM_Qwen3-Embedding-8B_915487_len2000_fulltrain_2e-05_datahelpsteer2-preference-v2/logs/checkpoint-272  \\\n",
       "60321                                           3.953125                                                                                                                                                     \n",
       "60353                                           3.468750                                                                                                                                                     \n",
       "60416                                           3.218750                                                                                                                                                     \n",
       "60536                                           3.234375                                                                                                                                                     \n",
       "60631                                          -1.007812                                                                                                                                                     \n",
       "60721                                           3.671875                                                                                                                                                     \n",
       "60792                                           4.562500                                                                                                                                                     \n",
       "60848                                           3.203125                                                                                                                                                     \n",
       "60881                                           3.859375                                                                                                                                                     \n",
       "61086                                           2.515625                                                                                                                                                     \n",
       "\n",
       "       reward_/nas/ucb/eop/Reward-Model-Overoptimization/save_reward_models/Qwen3-Embedding-8B_43_BT_RM_Qwen3-Embedding-8B_915731_len2000_fulltrain_2e-05_datahelpsteer2-preference-v2/logs/checkpoint-272  \n",
       "60321                                           0.660156                                                                                                                                                    \n",
       "60353                                          -0.143555                                                                                                                                                    \n",
       "60416                                          -0.781250                                                                                                                                                    \n",
       "60536                                          -0.080078                                                                                                                                                    \n",
       "60631                                          -5.343750                                                                                                                                                    \n",
       "60721                                           0.394531                                                                                                                                                    \n",
       "60792                                           1.101562                                                                                                                                                    \n",
       "60848                                          -0.080566                                                                                                                                                    \n",
       "60881                                           0.281250                                                                                                                                                    \n",
       "61086                                          -1.015625                                                                                                                                                    "
      ],
      "text/html": [
       "<div>\n",
       "<style scoped>\n",
       "    .dataframe tbody tr th:only-of-type {\n",
       "        vertical-align: middle;\n",
       "    }\n",
       "\n",
       "    .dataframe tbody tr th {\n",
       "        vertical-align: top;\n",
       "    }\n",
       "\n",
       "    .dataframe thead th {\n",
       "        text-align: right;\n",
       "    }\n",
       "</style>\n",
       "<table border=\"1\" class=\"dataframe\">\n",
       "  <thead>\n",
       "    <tr style=\"text-align: right;\">\n",
       "      <th></th>\n",
       "      <th>prompt</th>\n",
       "      <th>completion</th>\n",
       "      <th>reward</th>\n",
       "      <th>completion_ids</th>\n",
       "      <th>reference_response_1</th>\n",
       "      <th>reference_response_2</th>\n",
       "      <th>reference_reward</th>\n",
       "      <th>reference_reward_1</th>\n",
       "      <th>reference_reward_2</th>\n",
       "      <th>reward_/nas/ucb/eop/Reward-Model-Overoptimization/save_reward_models/Qwen3-Embedding-8B_42_BT_RM_Qwen3-Embedding-8B_915487_len2000_fulltrain_2e-05_datahelpsteer2-preference-v2/logs/checkpoint-272</th>\n",
       "      <th>reward_/nas/ucb/eop/Reward-Model-Overoptimization/save_reward_models/Qwen3-Embedding-8B_43_BT_RM_Qwen3-Embedding-8B_915731_len2000_fulltrain_2e-05_datahelpsteer2-preference-v2/logs/checkpoint-272</th>\n",
       "    </tr>\n",
       "  </thead>\n",
       "  <tbody>\n",
       "    <tr>\n",
       "      <th>60321</th>\n",
       "      <td>&lt;|im_start|&gt;user\\nWhat is used behind the scen...</td>\n",
       "      <td>Behind the scene in **Power BI**, the **key in...</td>\n",
       "      <td>3.292969</td>\n",
       "      <td>[73642, 279, 6109, 304, 3070, 14986, 47053, 97...</td>\n",
       "      <td>Behind the scene for key influencer visual in ...</td>\n",
       "      <td>Behind the scene for key influencers in Power ...</td>\n",
       "      <td>3.523438</td>\n",
       "      <td>3.847656</td>\n",
       "      <td>3.201172</td>\n",
       "      <td>3.953125</td>\n",
       "      <td>0.660156</td>\n",
       "    </tr>\n",
       "    <tr>\n",
       "      <th>60353</th>\n",
       "      <td>&lt;|im_start|&gt;user\\nwrite a quick review on The ...</td>\n",
       "      <td>Here's a **quick and professional review** of ...</td>\n",
       "      <td>3.612305</td>\n",
       "      <td>[8420, 594, 264, 3070, 27763, 323, 6584, 3395,...</td>\n",
       "      <td>**Review of *The Haxan Cloak - Excavation***  ...</td>\n",
       "      <td>**Review: *The Haxan Cloak – Excavation***  \\n...</td>\n",
       "      <td>1.179688</td>\n",
       "      <td>0.505859</td>\n",
       "      <td>1.852539</td>\n",
       "      <td>3.468750</td>\n",
       "      <td>-0.143555</td>\n",
       "    </tr>\n",
       "    <tr>\n",
       "      <th>60416</th>\n",
       "      <td>&lt;|im_start|&gt;user\\nwho said the principle (dire...</td>\n",
       "      <td>The **Principle (Directive Principles) of the ...</td>\n",
       "      <td>4.000000</td>\n",
       "      <td>[785, 3070, 3533, 15996, 320, 62076, 56914, 8,...</td>\n",
       "      <td>The principle (Directive Principles) of State ...</td>\n",
       "      <td>The principle (directive principles) is a set ...</td>\n",
       "      <td>-1.908203</td>\n",
       "      <td>-2.447266</td>\n",
       "      <td>-1.368164</td>\n",
       "      <td>3.218750</td>\n",
       "      <td>-0.781250</td>\n",
       "    </tr>\n",
       "    <tr>\n",
       "      <th>60536</th>\n",
       "      <td>&lt;|im_start|&gt;user\\ncan u explain IT Revolution ...</td>\n",
       "      <td>Certainly! The **** **** **** ** ** ** ** ** \\...</td>\n",
       "      <td>3.314453</td>\n",
       "      <td>[95456, 0, 576, 3070, 334, 3070, 334, 3070, 33...</td>\n",
       "      <td>Certainly! Here's an explanation of **IT Revol...</td>\n",
       "      <td>Certainly! Here's a structured explanation of ...</td>\n",
       "      <td>2.675781</td>\n",
       "      <td>2.292969</td>\n",
       "      <td>3.056641</td>\n",
       "      <td>3.234375</td>\n",
       "      <td>-0.080078</td>\n",
       "    </tr>\n",
       "    <tr>\n",
       "      <th>60631</th>\n",
       "      <td>&lt;|im_start|&gt;user\\nWhen did Russia and Japan ma...</td>\n",
       "      <td>Russia and Japan did **not reach peace** after...</td>\n",
       "      <td>4.335938</td>\n",
       "      <td>[44506, 323, 6323, 1521, 3070, 1921, 5545, 891...</td>\n",
       "      <td>After World War II, Russia and Japan did not o...</td>\n",
       "      <td>Russia and Japan did not make peace after Worl...</td>\n",
       "      <td>-1.637695</td>\n",
       "      <td>-3.685547</td>\n",
       "      <td>0.410889</td>\n",
       "      <td>-1.007812</td>\n",
       "      <td>-5.343750</td>\n",
       "    </tr>\n",
       "    <tr>\n",
       "      <th>60721</th>\n",
       "      <td>&lt;|im_start|&gt;user\\nCan you come up with an orig...</td>\n",
       "      <td>Absolutely! Here's an **original Magic: The Ga...</td>\n",
       "      <td>3.277344</td>\n",
       "      <td>[77045, 0, 5692, 594, 458, 3070, 9889, 15485, ...</td>\n",
       "      <td>Absolutely! Here's an original Magic: The Gath...</td>\n",
       "      <td>Sure! Here's an original Magic: The Gathering ...</td>\n",
       "      <td>2.091797</td>\n",
       "      <td>1.000977</td>\n",
       "      <td>3.183594</td>\n",
       "      <td>3.671875</td>\n",
       "      <td>0.394531</td>\n",
       "    </tr>\n",
       "    <tr>\n",
       "      <th>60792</th>\n",
       "      <td>&lt;|im_start|&gt;user\\nwrite a blog on public healt...</td>\n",
       "      <td>Certainly! Here’s a **blog post** titled:  \\n-...</td>\n",
       "      <td>3.460938</td>\n",
       "      <td>[95456, 0, 5692, 748, 264, 3070, 11659, 1736, ...</td>\n",
       "      <td>**Title: Mastering Public Health: Building a S...</td>\n",
       "      <td>**Title: Building a Health Future: Exploring P...</td>\n",
       "      <td>2.960938</td>\n",
       "      <td>2.906250</td>\n",
       "      <td>3.015625</td>\n",
       "      <td>4.562500</td>\n",
       "      <td>1.101562</td>\n",
       "    </tr>\n",
       "    <tr>\n",
       "      <th>60848</th>\n",
       "      <td>&lt;|im_start|&gt;user\\nwrite letter to the editor t...</td>\n",
       "      <td>Certainly! Below is a **summary letter** writt...</td>\n",
       "      <td>3.283691</td>\n",
       "      <td>[95456, 0, 21193, 374, 264, 3070, 1708, 6524, ...</td>\n",
       "      <td>**Letter to the Editor**  \\n**Subject:** Progr...</td>\n",
       "      <td>**Letter to the Editor**\\n\\n**Subject:** Progr...</td>\n",
       "      <td>2.650391</td>\n",
       "      <td>3.001953</td>\n",
       "      <td>2.298828</td>\n",
       "      <td>3.203125</td>\n",
       "      <td>-0.080566</td>\n",
       "    </tr>\n",
       "    <tr>\n",
       "      <th>60881</th>\n",
       "      <td>&lt;|im_start|&gt;user\\npx4 Flight mode&lt;|im_end|&gt;\\n&lt;...</td>\n",
       "      <td>**\"PX4 Flight Mode\" 用于 **[** Cruise (Cruise Mo...</td>\n",
       "      <td>3.578125</td>\n",
       "      <td>[334, 1, 73812, 19, 26577, 14562, 1, 220, 1007...</td>\n",
       "      <td>Hello! I'm here to help with your PX4 flight m...</td>\n",
       "      <td>The `px4` (Pilot's Flight Mode) is a specific ...</td>\n",
       "      <td>2.832031</td>\n",
       "      <td>3.554688</td>\n",
       "      <td>2.107422</td>\n",
       "      <td>3.859375</td>\n",
       "      <td>0.281250</td>\n",
       "    </tr>\n",
       "    <tr>\n",
       "      <th>61086</th>\n",
       "      <td>&lt;|im_start|&gt;user\\nI want you to pretend to be ...</td>\n",
       "      <td>Sure! Here's your **revised article** in the s...</td>\n",
       "      <td>3.531250</td>\n",
       "      <td>[39814, 0, 5692, 594, 697, 3070, 265, 25379, 4...</td>\n",
       "      <td>Here is your updated opinion article with the ...</td>\n",
       "      <td>**ChatLinker**  \\nWe Liberals Have Overreacted...</td>\n",
       "      <td>0.015625</td>\n",
       "      <td>-0.249512</td>\n",
       "      <td>0.280762</td>\n",
       "      <td>2.515625</td>\n",
       "      <td>-1.015625</td>\n",
       "    </tr>\n",
       "  </tbody>\n",
       "</table>\n",
       "</div>"
      ]
     },
     "execution_count": 194,
     "metadata": {},
     "output_type": "execute_result"
    }
   ],
   "execution_count": 194
  },
  {
   "metadata": {
    "ExecuteTime": {
     "end_time": "2025-07-14T10:20:17.134539Z",
     "start_time": "2025-07-14T10:20:16.741717Z"
    }
   },
   "cell_type": "code",
   "source": [
    "with open('data/train.json', 'r') as f:\n",
    "    train = json.load(f)"
   ],
   "id": "ca6465edf196c5e8",
   "outputs": [],
   "execution_count": 195
  },
  {
   "metadata": {
    "ExecuteTime": {
     "end_time": "2025-07-14T10:20:17.163668Z",
     "start_time": "2025-07-14T10:20:17.159808Z"
    }
   },
   "cell_type": "code",
   "source": "list(train[1000].keys())",
   "id": "23f8304992dba902",
   "outputs": [
    {
     "data": {
      "text/plain": [
       "['chosen',\n",
       " 'rejected',\n",
       " 'preference_strength',\n",
       " 'does_gold_agree_with_original',\n",
       " 'chosen_reward',\n",
       " 'rejected_reward',\n",
       " 'reference_response_1',\n",
       " 'reference_response_2',\n",
       " 'reference_reward',\n",
       " 'reference_reward_1',\n",
       " 'reference_reward_2']"
      ]
     },
     "execution_count": 196,
     "metadata": {},
     "output_type": "execute_result"
    }
   ],
   "execution_count": 196
  },
  {
   "metadata": {
    "ExecuteTime": {
     "end_time": "2025-07-14T10:40:44.353025Z",
     "start_time": "2025-07-14T10:40:44.348200Z"
    }
   },
   "cell_type": "code",
   "source": [
    "df_unique_prompt.loc[:, 'best_reference'] = np.where(\n",
    "    df_unique_prompt['reference_reward_1'] > df_unique_prompt['reference_reward_2'],\n",
    "    df_unique_prompt['reference_response_1'],\n",
    "    df_unique_prompt['reference_response_2']\n",
    ")\n",
    "\n",
    "df_unique_prompt.loc[:, 'chosen_reward'] = np.where(\n",
    "    df_unique_prompt['reference_reward_1'] > df_unique_prompt['reference_reward_2'],\n",
    "    df_unique_prompt['reference_reward_1'],\n",
    "    df_unique_prompt['reference_reward_2']\n",
    ")\n",
    "\n",
    "df_unique_prompt.loc[:, 'rejected_reward'] = df_unique_prompt[column_max]"
   ],
   "id": "6ba41497925f621b",
   "outputs": [
    {
     "name": "stderr",
     "output_type": "stream",
     "text": [
      "/tmp/ipykernel_57100/4143826914.py:13: SettingWithCopyWarning: \n",
      "A value is trying to be set on a copy of a slice from a DataFrame.\n",
      "Try using .loc[row_indexer,col_indexer] = value instead\n",
      "\n",
      "See the caveats in the documentation: https://pandas.pydata.org/pandas-docs/stable/user_guide/indexing.html#returning-a-view-versus-a-copy\n",
      "  df_unique_prompt.loc[:, 'rejected_reward'] = df_unique_prompt[column_max]\n"
     ]
    }
   ],
   "execution_count": 208
  },
  {
   "metadata": {
    "ExecuteTime": {
     "end_time": "2025-07-14T10:20:17.314967Z",
     "start_time": "2025-07-14T10:20:17.309996Z"
    }
   },
   "cell_type": "code",
   "source": "train[1000]",
   "id": "7dc45e3d75000c82",
   "outputs": [
    {
     "data": {
      "text/plain": [
       "{'chosen': [{'content': 'why protein structure predicts its function',\n",
       "   'role': 'user'},\n",
       "  {'content': \"The structure of a protein determines its function because the shape of the protein dictates its interactions with other molecules. The three-dimensional structure of a protein is determined by the sequence of amino acids in its chain. Each amino acid has a unique side chain that protrudes from the main chain of the protein, and these side chains can interact with other molecules to form bonds, recognize specific targets, or catalyze chemical reactions.\\n\\nThe shape of a protein is determined by the interactions between the side chains of the amino acids in its chain. These interactions can be hydrogen bonds, salt bridges, or van der Waals forces, among others. The specific arrangement of these interactions determines the overall shape of the protein and its ability to perform its function.\\n\\nFor example, enzymes are proteins that catalyze chemical reactions in the body. The three-dimensional structure of an enzyme determines its ability to bind to a specific substrate (the molecule that the enzyme is designed to modify) and catalyze the reaction. The active site of the enzyme is the region where the substrate binds, and it is shaped in a way that allows the substrate to fit snugly within it. The precise arrangement of amino acids in the active site determines the exact shape of the site, which in turn determines the specific reaction that the enzyme can catalyze.\\n\\nIn another example, antibodies are proteins that recognize and bind to specific targets, such as viruses or toxins, in order to tag them for destruction by the immune system. The three-dimensional structure of an antibody is optimized to recognize and bind to a specific target, known as an antigen. The exact shape of the antibody's binding site, known as the paratope, determines which antigens it can recognize and bind to. The specificity of the antibody-antigen interaction is due to the precise arrangement of amino acids in the paratope, which allows it to fit snugly around the target antigen.\\n\\nIn summary, the structure of a protein determines its function because the shape of the protein dictates its interactions with other molecules. The precise arrangement of amino acids in the protein chain determines the overall shape of the protein, and this shape determines its ability to perform its specific function. Understanding the relationship between protein structure and function is important for understanding how proteins work in the body, and for developing therapies that target specific proteins for the treatment of disease.\",\n",
       "   'role': 'assistant'}],\n",
       " 'rejected': [{'content': 'why protein structure predicts its function',\n",
       "   'role': 'user'},\n",
       "  {'content': 'Protein structure and function are closely related. The three-dimensional structure of a protein determines its function. Proteins are complex molecules that perform a wide range of essential tasks in the body, from building and repairing tissues to carrying out chemical reactions.\\n\\nThe structure of a protein is determined by its amino acid sequence, which determines the shape of the protein. The shape of the protein is critical to its function, as it determines how the protein interacts with other molecules, such as enzymes, hormones, and antibodies.\\n\\nThe structure of a protein can be divided into three main regions: the amino-terminal region, the core region, and the carboxy-terminal region. The amino-terminal region is the part of the protein that is exposed to the outside of the cell, and it is often involved in binding to other proteins or to cellular structures. The core region is the part of the protein that is responsible for its function, and it is often involved in binding to other molecules or in carrying out chemical reactions. The carboxy-terminal region is the part of the protein that is responsible for its stability and for its interaction with other proteins.\\n\\nThe structure of a protein can also be divided into smaller regions called domains. Each domain has a specific function, and the domains are often arranged in a specific order to form the overall structure of the protein.\\n\\nThe structure of a protein is critical to its function, and changes in the structure can lead to changes in the function of the protein. For example, mutations in the structure of a protein can lead to diseases such as cystic fibrosis and sickle cell anemia.\\n\\nIn summary, the structure of a protein is critical to its function, and changes in the structure can lead to changes in the function of the protein. Understanding the structure of a protein is important for understanding its function and for developing treatments for diseases caused by mutations in the structure of the protein.',\n",
       "   'role': 'assistant'}],\n",
       " 'preference_strength': 1,\n",
       " 'does_gold_agree_with_original': True,\n",
       " 'chosen_reward': 1,\n",
       " 'rejected_reward': -1,\n",
       " 'reference_response_1': ' ⚼ ⚼ ⚼ ⚼ ⚼ ⚼ ⚼ ⚼ ⚼ ⚼ ⚼ ⚼ ⚼ ⚼ ⚼ ⚼ ⚼ ⚼ ⚼ ⚼ ⚼ ⚼ ⚼ ⚼ ⚼ ⚼ ⚼ ⚼ ⚼ ⚼ ⚼ ⚼ ⚼ ⚼ ⚼ ⚼ ⚼ ⚼ ⚼ ⚼ ⚼ ⚼ ⚼ ⚼ ⚼ ⚼ ⚼ ⚼ ⚼ ⚼ ⚼ ⚼ ⚼ ⚼ ⚼ ⚼ ⚼ ⚼ ⚼ ⚼ ⚼ ⚼ ⚼ ⚼ ⚼ ⚼ ⚼ ⚼ ⚼ ⚼ ⚼ ⚼ ⚼ ⚼ ⚼ ⚼ ⚼ ⚼ ⚼ ⚼ ⚼ ⚼ ⚼ ⚼ ⚼ ⚼ ⚼ ⚼ ⚼ ⚼ ⚼ ⚼ ⚼ ⚼ ⚼ ⚼ ⚼ ⚼ ⚼ ⚼ ⚼ ⚼ ⚼ ⚼ ⚼ ⚼ ⚼ ⚼ ⚼ ⚼ ⚼ ⚼ ⚼ ⚼ ⚼ ⚼ ⚼ ⚼ ⚼ ⚼ ⚼ ⚼ ⚼ ⚼ ⚼ ⚼ ⚼ ⚼ ⚼ ⚼ ⚼ ⚼ ⚼ ⚼ ⚼ ⚼ ⚼ ⚼ ⚼ ⚼ ⚼ ⚼ ⚼ ⚼ ⚼ ⚼ ⚼ ⚼ ⚼ ⚼ ⚼ ⚼ ⚼ ⚼ ⚼ ⚼ ⚼ ⚼ ⚼ ⚼ ⚼ ⚼ ⚼ ⚼ ⚼ ⚼ ⚼ ⚼ ⚼ ⚼ ⚼ ⚼ ⚼ ⚼ ⚼ ⚼ ⚼ ⚼ ⚼ ⚼ ⚼ ⚼ ⚼ ⚼ ⚼ ⚼ ⚼ ⚼ ⚼ ⚼ ⚼ ⚼ ⚼ ⚼ ⚼ ⚼ ⚼ ⚼ ⚼ ⚼ ⚼ ⚼ ⚼ ⚼ ⚼ ⚼ ⚼ ⚼ ⚼ ⚼ ⚼ ⚼ ⚼ ⚼ ⚼ ⚼ ⚼ ⚼ ⚼ ⚼ ⚼ ⚼ ⚼ ⚼ ⚼ ⚼ ⚼ ⚼ ⚼ ⚼ ⚼ ⚼ ⚼ ⚼ ⚼ ⚼ ⚼ ⚼ ⚼ ⚼ ⚼ ⚼ ⚼ ⚼ ⚼ ⚼ ⚼ ⚼ ⚼ ⚼ ⚼ ⚼ ⚼ ⚼ ⚼ ⚼ ⚼ ⚼ ⚼ ⚼ ⚼ ⚼ ⚼ ⚼ ⚼ ⚼ ⚼ ⚼ ⚼ ⚼ ⚼ ⚼ ⚼ ⚼ ⚼ ⚼ ⚼ ⚼ ⚼ ⚼ ⚼ ⚼ ⚼ ⚼ ⚼ ⚼ ⚼ ⚼ ⚼ ⚼ ⚼ ⚼ ⚼ ⚼ ⚼ ⚼ ⚼ ⚼ ⚼ ⚼ ⚼ ⚼ ⚼ ⚼ ⚼ ⚼ ⚼ ⚼ ⚼ ⚼ ⚼ ⚼ ⚼ ⚼ ⚼ ⚼ ⚼ ⚼ ⚼ ⚼ ⚼ ⚼ ⚼ ⚼ ⚼ ⚼ ⚼ ⚼ ⚼ ⚼ ⚼ ⚼ ⚼ ⚼ ⚼ ⚼ ⚼ ⚼ ⚼ ⚼ ⚼ �',\n",
       " 'reference_response_2': ' ⚇ ⚇ ⚇ ⚇ ⚇ ⚇ ⚇ ⚇ ⚇ ⚇ ⚇ ⚇ ⚇ ⚇ ⚇ ⚇ ⚇ ⚇ ⚇ ⚇ ⚇ ⚇ ⚇ ⚇ ⚇ ⚇ ⚇ ⚇ ⚇ ⚇ ⚇ ⚇ ⚇ ⚇ ⚇ ⚇ ⚇ ⚇ ⚇ ⚇ ⚇ ⚇ ⚇ ⚇ ⚇ ⚇ ⚇ ⚇ ⚇ ⚇ ⚇ ⚇ ⚇ ⚇ ⚇ ⚇ ⚇ ⚇ ⚇ ⚇ ⚇ ⚇ ⚇ ⚇ ⚇ ⚇ ⚇ ⚇ ⚇ ⚇ ⚇ ⚇ ⚇ ⚇ ⚇ ⚇ ⚇ ⚇ ⚇ ⚇ ⚇ ⚇ ⚇ ⚇ ⚇ ⚇ ⚇ ⚇ ⚇ ⚇ ⚇ ⚇ ⚇ ⚇ ⚇ ⚇ ⚇ ⚇ ⚇ ⚇ ⚇ ⚇ ⚇ ⚇ ⚇ ⚇ ⚇ ⚇ ⚇ ⚇ ⚇ ⚇ ⚇ ⚇ ⚇ ⚇ ⚇ ⚇ ⚇ ⚇ ⚇ ⚇ ⚇ ⚇ ⚇ ⚇ ⚇ ⚇ ⚇ ⚇ ⚇ ⚇ ⚇ ⚇ ⚇ ⚇ ⚇ ⚇ ⚇ ⚇ ⚇ ⚇ ⚇ ⚇ ⚇ ⚇ ⚇ ⚇ ⚇ ⚇ ⚇ ⚇ ⚇ ⚇ ⚇ ⚇ ⚇ ⚇ ⚇ ⚇ ⚇ ⚇ ⚇ ⚇ ⚇ ⚇ ⚇ ⚇ ⚇ ⚇ ⚇ ⚇ ⚇ ⚇ ⚇ ⚇ ⚇ ⚇ ⚇ ⚇ ⚇ ⚇ ⚇ ⚇ ⚇ ⚇ ⚇ ⚇ ⚇ ⚇ ⚇ ⚇ ⚇ ⚇ ⚇ ⚇ ⚇ ⚇ ⚇ ⚇ ⚇ ⚇ ⚇ ⚇ ⚇ ⚇ ⚇ ⚇ ⚇ ⚇ ⚇ ⚇ ⚇ ⚇ ⚇ ⚇ ⚇ ⚇ ⚇ ⚇ ⚇ ⚇ ⚇ ⚇ ⚇ ⚇ ⚇ ⚇ ⚇ ⚇ ⚇ ⚇ ⚇ ⚇ ⚇ ⚇ ⚇ ⚇ ⚇ ⚇ ⚇ ⚇ ⚇ ⚇ ⚇ ⚇ ⚇ ⚇ ⚇ ⚇ ⚇ ⚇ ⚇ ⚇ ⚇ ⚇ ⚇ ⚇ ⚇ ⚇ ⚇ ⚇ ⚇ ⚇ ⚇ ⚇ ⚇ ⚇ ⚇ ⚇ ⚇ ⚇ ⚇ ⚇ ⚇ ⚇ ⚇ ⚇ ⚇ ⚇ ⚇ ⚇ ⚇ ⚇ ⚇ ⚇ ⚇ ⚇ ⚇ ⚇ ⚇ ⚇ ⚇ ⚇ ⚇ ⚇ ⚇ ⚇ ⚇ ⚇ ⚇ ⚇ ⚇ ⚇ ⚇ ⚇ ⚇ ⚇ ⚇ ⚇ ⚇ ⚇ ⚇ ⚇ ⚇ ⚇ ⚇ ⚇ ⚇ ⚇ ⚇ ⚇ ⚇ ⚇ ⚇ ⚇ ⚇ ⚇ ⚇ ⚇ ⚇ ⚇ ⚇ ⚇ ⚇ ⚇ ⚇ ⚇ ⚇ ⚇ ⚇ �',\n",
       " 'reference_reward': 2.361328125,\n",
       " 'reference_reward_1': 2.30078125,\n",
       " 'reference_reward_2': 2.421875}"
      ]
     },
     "execution_count": 198,
     "metadata": {},
     "output_type": "execute_result"
    }
   ],
   "execution_count": 198
  },
  {
   "metadata": {
    "ExecuteTime": {
     "end_time": "2025-07-14T10:40:56.144538Z",
     "start_time": "2025-07-14T10:40:56.121395Z"
    }
   },
   "cell_type": "code",
   "source": [
    "df_unique_prompt.loc[:, 'chosen'] = df_unique_prompt['prompt'] + df_unique_prompt['best_reference']\n",
    "\n",
    "df_unique_prompt.loc[:, 'rejected'] = df_unique_prompt['prompt'] + df_unique_prompt['completion']\n",
    "\n",
    "df_unique_prompt.loc[:, 'does_gold_agree_with_original'] = True\n",
    "df_unique_prompt.loc[:, 'preference_strength'] = df_unique_prompt[column_max] - df_unique_prompt[column_min]\n",
    "df_cleaned = df_unique_prompt.drop([\n",
    "    'prompt',\n",
    "    'completion',\n",
    "    'best_reference',\n",
    "    column_max,\n",
    "    column_min,\n",
    "    'completion_ids',\n",
    "], axis=1)\n",
    "\n",
    "df_cleaned"
   ],
   "id": "814d0693c2895539",
   "outputs": [
    {
     "name": "stderr",
     "output_type": "stream",
     "text": [
      "/tmp/ipykernel_57100/4181023931.py:6: SettingWithCopyWarning: \n",
      "A value is trying to be set on a copy of a slice from a DataFrame.\n",
      "Try using .loc[row_indexer,col_indexer] = value instead\n",
      "\n",
      "See the caveats in the documentation: https://pandas.pydata.org/pandas-docs/stable/user_guide/indexing.html#returning-a-view-versus-a-copy\n",
      "  df_unique_prompt.loc[:, 'preference_strength'] = df_unique_prompt[column_max] - df_unique_prompt[column_min]\n"
     ]
    },
    {
     "data": {
      "text/plain": [
       "         reward                               reference_response_1  \\\n",
       "529    3.355469  A **Cooperative Process** is a type of process...   \n",
       "538    4.429688  **Deck List: Eldrin's Fury**  \\n*Strategy: A p...   \n",
       "792    4.048828  **Title: Master Chief: The IKEA Building Works...   \n",
       "993    3.343750  Here is a comprehensive 9-month Python program...   \n",
       "1196  -3.945312  THE SOLDIERS CREED IS: **\"A TALE OF TWO WIVES ...   \n",
       "...         ...                                                ...   \n",
       "60721  3.277344  Absolutely! Here's an original Magic: The Gath...   \n",
       "60792  3.460938  **Title: Mastering Public Health: Building a S...   \n",
       "60848  3.283691  **Letter to the Editor**  \\n**Subject:** Progr...   \n",
       "60881  3.578125  Hello! I'm here to help with your PX4 flight m...   \n",
       "61086  3.531250  Here is your updated opinion article with the ...   \n",
       "\n",
       "                                    reference_response_2  reference_reward  \\\n",
       "529    A **Cooperative Process** in the context of **...          0.053711   \n",
       "538    **Deck List: Golgari Eldoria — A Tribal Unity ...         -1.621094   \n",
       "792    **Title: \"Building the IKEA Furniture: A Maste...         -0.168213   \n",
       "993    Here is a **comprehensive step-by-step guide**...          0.799316   \n",
       "1196                 THE SOLDIERS CREED: \"I AM THE ONE.\"         -3.392578   \n",
       "...                                                  ...               ...   \n",
       "60721  Sure! Here's an original Magic: The Gathering ...          2.091797   \n",
       "60792  **Title: Building a Health Future: Exploring P...          2.960938   \n",
       "60848  **Letter to the Editor**\\n\\n**Subject:** Progr...          2.650391   \n",
       "60881  The `px4` (Pilot's Flight Mode) is a specific ...          2.832031   \n",
       "61086  **ChatLinker**  \\nWe Liberals Have Overreacted...          0.015625   \n",
       "\n",
       "       reference_reward_1  reference_reward_2  \\\n",
       "529             -2.083984            2.191406   \n",
       "538             -0.323975           -2.917969   \n",
       "792             -1.173828            0.837402   \n",
       "993              1.075195            0.523438   \n",
       "1196            -4.886719           -1.898438   \n",
       "...                   ...                 ...   \n",
       "60721            1.000977            3.183594   \n",
       "60792            2.906250            3.015625   \n",
       "60848            3.001953            2.298828   \n",
       "60881            3.554688            2.107422   \n",
       "61086           -0.249512            0.280762   \n",
       "\n",
       "                                                  chosen  \\\n",
       "529    <|im_start|>user\\nDefine a Cooperative Process...   \n",
       "538    <|im_start|>user\\nYou are a writer for a blog ...   \n",
       "792    <|im_start|>user\\nwrite a script of Master Chi...   \n",
       "993    <|im_start|>user\\nAct as a personalized learni...   \n",
       "1196   <|im_start|>user\\nIs classical conditioning th...   \n",
       "...                                                  ...   \n",
       "60721  <|im_start|>user\\nCan you come up with an orig...   \n",
       "60792  <|im_start|>user\\nwrite a blog on public healt...   \n",
       "60848  <|im_start|>user\\nwrite letter to the editor t...   \n",
       "60881  <|im_start|>user\\npx4 Flight mode<|im_end|>\\n<...   \n",
       "61086  <|im_start|>user\\nI want you to pretend to be ...   \n",
       "\n",
       "                                                rejected  \\\n",
       "529    <|im_start|>user\\nDefine a Cooperative Process...   \n",
       "538    <|im_start|>user\\nYou are a writer for a blog ...   \n",
       "792    <|im_start|>user\\nwrite a script of Master Chi...   \n",
       "993    <|im_start|>user\\nAct as a personalized learni...   \n",
       "1196   <|im_start|>user\\nIs classical conditioning th...   \n",
       "...                                                  ...   \n",
       "60721  <|im_start|>user\\nCan you come up with an orig...   \n",
       "60792  <|im_start|>user\\nwrite a blog on public healt...   \n",
       "60848  <|im_start|>user\\nwrite letter to the editor t...   \n",
       "60881  <|im_start|>user\\npx4 Flight mode<|im_end|>\\n<...   \n",
       "61086  <|im_start|>user\\nI want you to pretend to be ...   \n",
       "\n",
       "       does_gold_agree_with_original  best_reference_reward  chosen_reward  \\\n",
       "529                             True               2.191406       2.191406   \n",
       "538                             True              -0.323975      -0.323975   \n",
       "792                             True               0.837402       0.837402   \n",
       "993                             True               1.075195       1.075195   \n",
       "1196                            True              -1.898438      -1.898438   \n",
       "...                              ...                    ...            ...   \n",
       "60721                           True               3.183594       3.183594   \n",
       "60792                           True               3.015625       3.015625   \n",
       "60848                           True               3.001953       3.001953   \n",
       "60881                           True               3.554688       3.554688   \n",
       "61086                           True               0.280762       0.280762   \n",
       "\n",
       "       rejected_reward  preference_strength  \n",
       "529           0.183594             3.355469  \n",
       "538          -1.226562             4.429688  \n",
       "792          -0.107422             4.048828  \n",
       "993           2.187500             3.343750  \n",
       "1196         -1.820312            -3.945312  \n",
       "...                ...                  ...  \n",
       "60721         3.671875             3.277344  \n",
       "60792         4.562500             3.460938  \n",
       "60848         3.203125             3.283691  \n",
       "60881         3.859375             3.578125  \n",
       "61086         2.515625             3.531250  \n",
       "\n",
       "[561 rows x 13 columns]"
      ],
      "text/html": [
       "<div>\n",
       "<style scoped>\n",
       "    .dataframe tbody tr th:only-of-type {\n",
       "        vertical-align: middle;\n",
       "    }\n",
       "\n",
       "    .dataframe tbody tr th {\n",
       "        vertical-align: top;\n",
       "    }\n",
       "\n",
       "    .dataframe thead th {\n",
       "        text-align: right;\n",
       "    }\n",
       "</style>\n",
       "<table border=\"1\" class=\"dataframe\">\n",
       "  <thead>\n",
       "    <tr style=\"text-align: right;\">\n",
       "      <th></th>\n",
       "      <th>reward</th>\n",
       "      <th>reference_response_1</th>\n",
       "      <th>reference_response_2</th>\n",
       "      <th>reference_reward</th>\n",
       "      <th>reference_reward_1</th>\n",
       "      <th>reference_reward_2</th>\n",
       "      <th>chosen</th>\n",
       "      <th>rejected</th>\n",
       "      <th>does_gold_agree_with_original</th>\n",
       "      <th>best_reference_reward</th>\n",
       "      <th>chosen_reward</th>\n",
       "      <th>rejected_reward</th>\n",
       "      <th>preference_strength</th>\n",
       "    </tr>\n",
       "  </thead>\n",
       "  <tbody>\n",
       "    <tr>\n",
       "      <th>529</th>\n",
       "      <td>3.355469</td>\n",
       "      <td>A **Cooperative Process** is a type of process...</td>\n",
       "      <td>A **Cooperative Process** in the context of **...</td>\n",
       "      <td>0.053711</td>\n",
       "      <td>-2.083984</td>\n",
       "      <td>2.191406</td>\n",
       "      <td>&lt;|im_start|&gt;user\\nDefine a Cooperative Process...</td>\n",
       "      <td>&lt;|im_start|&gt;user\\nDefine a Cooperative Process...</td>\n",
       "      <td>True</td>\n",
       "      <td>2.191406</td>\n",
       "      <td>2.191406</td>\n",
       "      <td>0.183594</td>\n",
       "      <td>3.355469</td>\n",
       "    </tr>\n",
       "    <tr>\n",
       "      <th>538</th>\n",
       "      <td>4.429688</td>\n",
       "      <td>**Deck List: Eldrin's Fury**  \\n*Strategy: A p...</td>\n",
       "      <td>**Deck List: Golgari Eldoria — A Tribal Unity ...</td>\n",
       "      <td>-1.621094</td>\n",
       "      <td>-0.323975</td>\n",
       "      <td>-2.917969</td>\n",
       "      <td>&lt;|im_start|&gt;user\\nYou are a writer for a blog ...</td>\n",
       "      <td>&lt;|im_start|&gt;user\\nYou are a writer for a blog ...</td>\n",
       "      <td>True</td>\n",
       "      <td>-0.323975</td>\n",
       "      <td>-0.323975</td>\n",
       "      <td>-1.226562</td>\n",
       "      <td>4.429688</td>\n",
       "    </tr>\n",
       "    <tr>\n",
       "      <th>792</th>\n",
       "      <td>4.048828</td>\n",
       "      <td>**Title: Master Chief: The IKEA Building Works...</td>\n",
       "      <td>**Title: \"Building the IKEA Furniture: A Maste...</td>\n",
       "      <td>-0.168213</td>\n",
       "      <td>-1.173828</td>\n",
       "      <td>0.837402</td>\n",
       "      <td>&lt;|im_start|&gt;user\\nwrite a script of Master Chi...</td>\n",
       "      <td>&lt;|im_start|&gt;user\\nwrite a script of Master Chi...</td>\n",
       "      <td>True</td>\n",
       "      <td>0.837402</td>\n",
       "      <td>0.837402</td>\n",
       "      <td>-0.107422</td>\n",
       "      <td>4.048828</td>\n",
       "    </tr>\n",
       "    <tr>\n",
       "      <th>993</th>\n",
       "      <td>3.343750</td>\n",
       "      <td>Here is a comprehensive 9-month Python program...</td>\n",
       "      <td>Here is a **comprehensive step-by-step guide**...</td>\n",
       "      <td>0.799316</td>\n",
       "      <td>1.075195</td>\n",
       "      <td>0.523438</td>\n",
       "      <td>&lt;|im_start|&gt;user\\nAct as a personalized learni...</td>\n",
       "      <td>&lt;|im_start|&gt;user\\nAct as a personalized learni...</td>\n",
       "      <td>True</td>\n",
       "      <td>1.075195</td>\n",
       "      <td>1.075195</td>\n",
       "      <td>2.187500</td>\n",
       "      <td>3.343750</td>\n",
       "    </tr>\n",
       "    <tr>\n",
       "      <th>1196</th>\n",
       "      <td>-3.945312</td>\n",
       "      <td>THE SOLDIERS CREED IS: **\"A TALE OF TWO WIVES ...</td>\n",
       "      <td>THE SOLDIERS CREED: \"I AM THE ONE.\"</td>\n",
       "      <td>-3.392578</td>\n",
       "      <td>-4.886719</td>\n",
       "      <td>-1.898438</td>\n",
       "      <td>&lt;|im_start|&gt;user\\nIs classical conditioning th...</td>\n",
       "      <td>&lt;|im_start|&gt;user\\nIs classical conditioning th...</td>\n",
       "      <td>True</td>\n",
       "      <td>-1.898438</td>\n",
       "      <td>-1.898438</td>\n",
       "      <td>-1.820312</td>\n",
       "      <td>-3.945312</td>\n",
       "    </tr>\n",
       "    <tr>\n",
       "      <th>...</th>\n",
       "      <td>...</td>\n",
       "      <td>...</td>\n",
       "      <td>...</td>\n",
       "      <td>...</td>\n",
       "      <td>...</td>\n",
       "      <td>...</td>\n",
       "      <td>...</td>\n",
       "      <td>...</td>\n",
       "      <td>...</td>\n",
       "      <td>...</td>\n",
       "      <td>...</td>\n",
       "      <td>...</td>\n",
       "      <td>...</td>\n",
       "    </tr>\n",
       "    <tr>\n",
       "      <th>60721</th>\n",
       "      <td>3.277344</td>\n",
       "      <td>Absolutely! Here's an original Magic: The Gath...</td>\n",
       "      <td>Sure! Here's an original Magic: The Gathering ...</td>\n",
       "      <td>2.091797</td>\n",
       "      <td>1.000977</td>\n",
       "      <td>3.183594</td>\n",
       "      <td>&lt;|im_start|&gt;user\\nCan you come up with an orig...</td>\n",
       "      <td>&lt;|im_start|&gt;user\\nCan you come up with an orig...</td>\n",
       "      <td>True</td>\n",
       "      <td>3.183594</td>\n",
       "      <td>3.183594</td>\n",
       "      <td>3.671875</td>\n",
       "      <td>3.277344</td>\n",
       "    </tr>\n",
       "    <tr>\n",
       "      <th>60792</th>\n",
       "      <td>3.460938</td>\n",
       "      <td>**Title: Mastering Public Health: Building a S...</td>\n",
       "      <td>**Title: Building a Health Future: Exploring P...</td>\n",
       "      <td>2.960938</td>\n",
       "      <td>2.906250</td>\n",
       "      <td>3.015625</td>\n",
       "      <td>&lt;|im_start|&gt;user\\nwrite a blog on public healt...</td>\n",
       "      <td>&lt;|im_start|&gt;user\\nwrite a blog on public healt...</td>\n",
       "      <td>True</td>\n",
       "      <td>3.015625</td>\n",
       "      <td>3.015625</td>\n",
       "      <td>4.562500</td>\n",
       "      <td>3.460938</td>\n",
       "    </tr>\n",
       "    <tr>\n",
       "      <th>60848</th>\n",
       "      <td>3.283691</td>\n",
       "      <td>**Letter to the Editor**  \\n**Subject:** Progr...</td>\n",
       "      <td>**Letter to the Editor**\\n\\n**Subject:** Progr...</td>\n",
       "      <td>2.650391</td>\n",
       "      <td>3.001953</td>\n",
       "      <td>2.298828</td>\n",
       "      <td>&lt;|im_start|&gt;user\\nwrite letter to the editor t...</td>\n",
       "      <td>&lt;|im_start|&gt;user\\nwrite letter to the editor t...</td>\n",
       "      <td>True</td>\n",
       "      <td>3.001953</td>\n",
       "      <td>3.001953</td>\n",
       "      <td>3.203125</td>\n",
       "      <td>3.283691</td>\n",
       "    </tr>\n",
       "    <tr>\n",
       "      <th>60881</th>\n",
       "      <td>3.578125</td>\n",
       "      <td>Hello! I'm here to help with your PX4 flight m...</td>\n",
       "      <td>The `px4` (Pilot's Flight Mode) is a specific ...</td>\n",
       "      <td>2.832031</td>\n",
       "      <td>3.554688</td>\n",
       "      <td>2.107422</td>\n",
       "      <td>&lt;|im_start|&gt;user\\npx4 Flight mode&lt;|im_end|&gt;\\n&lt;...</td>\n",
       "      <td>&lt;|im_start|&gt;user\\npx4 Flight mode&lt;|im_end|&gt;\\n&lt;...</td>\n",
       "      <td>True</td>\n",
       "      <td>3.554688</td>\n",
       "      <td>3.554688</td>\n",
       "      <td>3.859375</td>\n",
       "      <td>3.578125</td>\n",
       "    </tr>\n",
       "    <tr>\n",
       "      <th>61086</th>\n",
       "      <td>3.531250</td>\n",
       "      <td>Here is your updated opinion article with the ...</td>\n",
       "      <td>**ChatLinker**  \\nWe Liberals Have Overreacted...</td>\n",
       "      <td>0.015625</td>\n",
       "      <td>-0.249512</td>\n",
       "      <td>0.280762</td>\n",
       "      <td>&lt;|im_start|&gt;user\\nI want you to pretend to be ...</td>\n",
       "      <td>&lt;|im_start|&gt;user\\nI want you to pretend to be ...</td>\n",
       "      <td>True</td>\n",
       "      <td>0.280762</td>\n",
       "      <td>0.280762</td>\n",
       "      <td>2.515625</td>\n",
       "      <td>3.531250</td>\n",
       "    </tr>\n",
       "  </tbody>\n",
       "</table>\n",
       "<p>561 rows × 13 columns</p>\n",
       "</div>"
      ]
     },
     "execution_count": 210,
     "metadata": {},
     "output_type": "execute_result"
    }
   ],
   "execution_count": 210
  },
  {
   "metadata": {
    "ExecuteTime": {
     "end_time": "2025-07-14T10:40:58.525723Z",
     "start_time": "2025-07-14T10:40:58.521928Z"
    }
   },
   "cell_type": "code",
   "source": "df_cleaned.columns.tolist()",
   "id": "9c2761d03e2c5242",
   "outputs": [
    {
     "data": {
      "text/plain": [
       "['reward',\n",
       " 'reference_response_1',\n",
       " 'reference_response_2',\n",
       " 'reference_reward',\n",
       " 'reference_reward_1',\n",
       " 'reference_reward_2',\n",
       " 'chosen',\n",
       " 'rejected',\n",
       " 'does_gold_agree_with_original',\n",
       " 'best_reference_reward',\n",
       " 'chosen_reward',\n",
       " 'rejected_reward',\n",
       " 'preference_strength']"
      ]
     },
     "execution_count": 211,
     "metadata": {},
     "output_type": "execute_result"
    }
   ],
   "execution_count": 211
  },
  {
   "metadata": {
    "ExecuteTime": {
     "end_time": "2025-07-14T10:50:00.790422Z",
     "start_time": "2025-07-14T10:50:00.758384Z"
    }
   },
   "cell_type": "code",
   "source": [
    "# make dir\n",
    "import os\n",
    "if not os.path.exists('out'):\n",
    "    os.makedirs('out')\n",
    "# save the cleaned DataFrame to a JSON file\n",
    "df_cleaned.to_json('out/train.json', orient='records', lines=False, force_ascii=False)"
   ],
   "id": "bca4f6da9464a569",
   "outputs": [],
   "execution_count": 215
  },
  {
   "metadata": {
    "ExecuteTime": {
     "end_time": "2025-07-14T10:50:01.687417Z",
     "start_time": "2025-07-14T10:50:01.653275Z"
    }
   },
   "cell_type": "code",
   "source": [
    "# read the saved JSON file to verify\n",
    "with open('out/train.json', 'r') as f:\n",
    "    train_data = json.load(f)\n",
    "\n",
    "train_data[100]"
   ],
   "id": "a6fe0ebf985e2e8a",
   "outputs": [
    {
     "data": {
      "text/plain": [
       "{'reward': -4.009765625,\n",
       " 'reference_response_1': \"CUDA (Compute Unified Device Architecture) has several memory types, which are used for different purposes and performance characteristics. Here's a summary of the memory types:\\n\\n### 1. **Host Memory**\\n   - **Purpose**: Communicates directly with the GPU.\\n   - **Access**: Host can read from and write to host memory.\\n   - **Limitations**: Not part of the GPU memory, so it's not accessible directly from the GPU.\\n\\n### 2. **Device Memory**\\n   - **Purpose**: Used by the GPU to store data.\\n   - **Access**: GPU can read from and write to device memory.\\n   - **Types**: \\n     - **Global Memory**: Shared among all GPUs.\\n     - **Local Memory**: Used for small, specific tasks (e.g., in CUDA kernels).\\n     - **Global Memory** (used by all GPUs in a multi-GPU setup).\\n     - **Local Memory** (used for small tasks).\\n     - **Device Memory** (used for specific GPU tasks).\\n\\n### 3. **Global Memory**\\n   - **Purpose**: Shared among all GPUs.\\n   - **Access**: All GPUs can read from and write to this memory.\\n   - **Limitations**: Not a direct buffer for a single GPU, so it's not accessible from a single GPU.\\n\\n### 4. **Local Memory**\\n   - **Purpose**: Stores data for specific tasks (e.g., in a single GPU).\\n   - **Access**: GPU can read from and write to local memory.\\n   - **Limitations**: Not shared among GPUs, so it's not accessible from multiple GPUs.\\n\\n### 5. **Device Memory**\\n   - **Purpose**: Stores GPU-specific data.\\n   - **Types**: \\n     - **Global Memory**\\n     - **Local Memory**\\n\\n### Key Notes:\\n- **Global Memory** is the most accessible and shared between GPUs.\\n- **Local Memory** is used for small, specific tasks.\\n- **Device Memory** is used for GPU-specific tasks.\\n\\nIf you're working with CUDA, it's important to understand which memory types you're using to optimize performance and resource usage.\",\n",
       " 'reference_response_2': \"CUDA (Compute Unified Device Acceleration) provides memory types to manage the different types of memory used in GPU operations. These memory types are used to optimize memory usage, performance, and compatibility across different workloads. Here's a summary of the **CUDA Memory Types**:\\n\\n---\\n\\n### **1. Global Memory**\\n- **Purpose**: Shared among all processes (workers) on the GPU.\\n- **Access**: Typically used for data that is accessed by all threads in the GPU.\\n- **Memory Type**: **`cuda_global_memory`**\\n- **Access**: Directly accessible (no need for a memory barrier)\\n\\n---\\n\\n### **2. Coalesced Global Memory**\\n- **Purpose**: Optimizes memory access by coalescing multiple threads that share the same memory block.\\n- **Access**: Access is shared among all threads in the GPU.\\n- **Memory Type**: **`cuda_global_coalesced_memory`**\\n- **Access**: No memory barriers needed, as the data is coalesced.\\n\\n---\\n\\n### **3. Local Memory**\\n- **Purpose**: Stores data that is used within a single thread.\\n- **Access**: Data is stored in a fixed-size region of memory.\\n- **Memory Type**: **`cuda_local_memory`**\\n- **Access**: Access is limited to the thread-local memory.\\n\\n---\\n\\n### **4. Shared Memory**\\n- **Purpose**: Stores data that is shared among threads in the same warp.\\n- **Access**: Access is shared among threads in the same warp.\\n- **Memory Type**: **`cuda_shared_memory`**\\n- **Access**: No memory barriers needed.\\n\\n---\\n\\n### **5. Register Memory**\\n- **Purpose**: Stores data in registers for faster access.\\n- **Access**: Direct access (no memory barriers).\\n- **Memory Type**: **`cuda_register_memory`**\\n- **Access**: Directly accessed by threads.\\n\\n---\\n\\n### **6. FIFO (First-In, First-Out) Memory**\\n- **Purpose**: Stores data in a FIFO order.\\n- **Access**: Access is limited to the FIFO order.\\n- **Memory Type**: **`cuda_fifo_memory`**\\n- **Access**: Not used in standard CUDA operations.\\n\\n---\\n\\n### **7. Read-Only Memory**\\n- **Purpose**: Stores read-only data (not used for computation).\\n- **Access**: Not used in computations.\\n- **Memory Type**: **`cuda_read_only_memory`**\\n\\n---\\n\\n### **8. Write-Only Memory**\\n- **Purpose**: Stores write-only data (not used for computation).\\n- **Access**: Not used in computations.\\n- **Memory Type**: **`cuda_write_only_memory`**\\n\\n---\\n\\n### **Summary Table: CUDA Memory Types**\\n\\n| Memory Type       | Purpose                          | Access                      | Memory Type      |\\n|-------------------|----------------------------------|-----------------------------|--------------------|\\n| Global Memory      | Shared among all processes      | Directly accessible         | `cuda_global_memory` |\\n| Coalesced Global  | Coalesced multiple threads       | No memory barriers          | `cuda_global_coalesced_memory` |\\n| Local Memory       | Thread-local data                | Limited to thread-local      | `cuda_local_memory` |\\n| Shared Memory      | Shared among threads in the same warp | No memory barriers        | `cuda_shared_memory` |\\n| Register Memory    | Stored in registers              | Direct access                | `cuda_register_memory` |\\n| FIFO Memory        | FIFO order                       | Limited to FIFO order        | `cuda_fifo_memory` |\\n| Read-Only Memory   | Not used for computation         | Not used                   | `cuda_read_only_memory` |\\n| Write-Only Memory  | Not used for computation         | Not used                   | `cuda_write_only_memory` |\\n\\n---\\n\\nThese memory types are essential for managing GPU memory usage and optimizing performance in CUDA applications.\",\n",
       " 'reference_reward': -0.07543945,\n",
       " 'reference_reward_1': -0.76220703,\n",
       " 'reference_reward_2': 0.6113281,\n",
       " 'chosen': \"<|im_start|>user\\nCUDA Memory types\\n<|im_end|>\\n<|im_start|>assistant\\n<think>\\n\\n</think>\\n\\nCUDA (Compute Unified Device Acceleration) provides memory types to manage the different types of memory used in GPU operations. These memory types are used to optimize memory usage, performance, and compatibility across different workloads. Here's a summary of the **CUDA Memory Types**:\\n\\n---\\n\\n### **1. Global Memory**\\n- **Purpose**: Shared among all processes (workers) on the GPU.\\n- **Access**: Typically used for data that is accessed by all threads in the GPU.\\n- **Memory Type**: **`cuda_global_memory`**\\n- **Access**: Directly accessible (no need for a memory barrier)\\n\\n---\\n\\n### **2. Coalesced Global Memory**\\n- **Purpose**: Optimizes memory access by coalescing multiple threads that share the same memory block.\\n- **Access**: Access is shared among all threads in the GPU.\\n- **Memory Type**: **`cuda_global_coalesced_memory`**\\n- **Access**: No memory barriers needed, as the data is coalesced.\\n\\n---\\n\\n### **3. Local Memory**\\n- **Purpose**: Stores data that is used within a single thread.\\n- **Access**: Data is stored in a fixed-size region of memory.\\n- **Memory Type**: **`cuda_local_memory`**\\n- **Access**: Access is limited to the thread-local memory.\\n\\n---\\n\\n### **4. Shared Memory**\\n- **Purpose**: Stores data that is shared among threads in the same warp.\\n- **Access**: Access is shared among threads in the same warp.\\n- **Memory Type**: **`cuda_shared_memory`**\\n- **Access**: No memory barriers needed.\\n\\n---\\n\\n### **5. Register Memory**\\n- **Purpose**: Stores data in registers for faster access.\\n- **Access**: Direct access (no memory barriers).\\n- **Memory Type**: **`cuda_register_memory`**\\n- **Access**: Directly accessed by threads.\\n\\n---\\n\\n### **6. FIFO (First-In, First-Out) Memory**\\n- **Purpose**: Stores data in a FIFO order.\\n- **Access**: Access is limited to the FIFO order.\\n- **Memory Type**: **`cuda_fifo_memory`**\\n- **Access**: Not used in standard CUDA operations.\\n\\n---\\n\\n### **7. Read-Only Memory**\\n- **Purpose**: Stores read-only data (not used for computation).\\n- **Access**: Not used in computations.\\n- **Memory Type**: **`cuda_read_only_memory`**\\n\\n---\\n\\n### **8. Write-Only Memory**\\n- **Purpose**: Stores write-only data (not used for computation).\\n- **Access**: Not used in computations.\\n- **Memory Type**: **`cuda_write_only_memory`**\\n\\n---\\n\\n### **Summary Table: CUDA Memory Types**\\n\\n| Memory Type       | Purpose                          | Access                      | Memory Type      |\\n|-------------------|----------------------------------|-----------------------------|--------------------|\\n| Global Memory      | Shared among all processes      | Directly accessible         | `cuda_global_memory` |\\n| Coalesced Global  | Coalesced multiple threads       | No memory barriers          | `cuda_global_coalesced_memory` |\\n| Local Memory       | Thread-local data                | Limited to thread-local      | `cuda_local_memory` |\\n| Shared Memory      | Shared among threads in the same warp | No memory barriers        | `cuda_shared_memory` |\\n| Register Memory    | Stored in registers              | Direct access                | `cuda_register_memory` |\\n| FIFO Memory        | FIFO order                       | Limited to FIFO order        | `cuda_fifo_memory` |\\n| Read-Only Memory   | Not used for computation         | Not used                   | `cuda_read_only_memory` |\\n| Write-Only Memory  | Not used for computation         | Not used                   | `cuda_write_only_memory` |\\n\\n---\\n\\nThese memory types are essential for managing GPU memory usage and optimizing performance in CUDA applications.\",\n",
       " 'rejected': '<|im_start|>user\\nCUDA Memory types\\n<|im_end|>\\n<|im_start|>assistant\\n<think>\\n\\n</think>\\n\\nCUDA (Modern Computing Execution) memory types are essential for managing data flow efficiently and controlling memory access. They are used in the execution of GPU programs (e.g., NVIDIA CUDA) to refine control over memory collisions and optimize memory usage through memory management algorithms. Here\\'s a quick overview of the **CUDA memory types** and their configuration modes:\\n\\n---\\n\\n## 📌 **1. Host-Only Memory**\\n\\n- **Purpose**: Host (CPU) only memory is allocated to the host process.\\n- **Mode**: `host`\\n- **Access Control**: Access to the host memory requires explicit allocation and a host memory file.\\n- **Usage**: Host can directly read from or write to the host memory.\\n\\n**Sample Usage:**\\n\\n```c++ [Host]\\n// Host Allocates Memory\\ncudaMalloc(&hostMemory, bufferSize);\\n\\n// Reads from host\\nsize_t size = cudaMemcpy_host_to_device(hostMemory, buffer, bufferSize, cudaMemcpyMemcpy);\\n```\\n\\n---\\n\\n## 📌 **2. Device-Only Memory**\\n\\n- **Purpose**: Device only memory is allocated to GPU memory.\\n- **Mode**: `device`\\n- **Access Control**: No host access, memory is directly GPU-only.\\n- **Usage**: Memory is shared among multiple threads in the GPU, and data is transferred between host and device without explicit memory allocation.\\n\\n**Sample Usage:**\\n\\n```c++ [CUDA]\\ncudaMemcpyToDevice(deviceMemory, hostBuffer, bufferSize, cudaMemcpyMemcpy);\\n```\\n\\n---\\n\\n## 📌 **3.Auxiliary Memory**\\n\\n- **Purpose**: Auxiliary memory overlays or \"overlay\" memory to buffer dependent memory.\\n- **Mode**: `overlay`\\n- **Access Control**: Access is through device memory layer overhead properties.\\n- **Restriction**: Requires device memory allocation (e.g., using `deviceAlloc`), and overlay can only be used within the `deviceAlloc` scope.\\n\\n**Example:**\\n\\n```c++ [CUDA]\\nsize_t deviceAllocSize = ...;\\ncudaMalloc(&deviceMemory, deviceAllocSize);\\n\\nsize_t overlaySize = deviceMemory.size();\\nsize_t overlayIndex = 0;\\n\\n// Copy data from overlay to device\\nsize_t copyIndex = 0;\\ncudaMemcpy(deviceMemory + overlayIndex, overlayData + copyIndex, overlaySize, cudaMemcpyDeviceToHost);\\n```\\n\\n---\\n\\n## 📌 **4. Shared Memory**\\n\\n- **Purpose**: Shared memory across multiple threads.\\n- **Mode**: `shared`\\n- **Access Control**: Can be shared between threads.\\n- **Restriction**: Requires device memory allocation and access through the device memory layer.\\n\\n**Sample Usage (Shared Memory via `cudaMemcpy`):**\\n\\n```c++ [CUDA]\\n// Share some memory between threads\\ncudaMemcpy(deviceMemory + sharedIndex, sharedMemoryData, size, cudaMemcpyDeviceToHost);\\n```\\n\\n**Note**: Shared memory is typically used for simple data transfers and cache optimization.\\n\\n---\\n\\n## 📌 **5. Global Memory**\\n\\n- **Purpose**: Global memory is shared among all threads on the GPU.\\n- **Mode**: `global`\\n- **Access Control**: Access is done through `cudaMemcpyGlobal()` and boundary access.\\n- **Strengths**: Fast access, suitable for large-scale data transfers between host and device.\\n\\n**Sample Usage:**\\n\\n```c++ [CUDA]\\ncudaMemcpyGlobal(hostBuffer, deviceBuffer, bufferSize, cudaMemcpyMemcpy, cudaMemcpyHostToDevice);\\n```\\n\\n---\\n\\n## 📌 **6. Local Memory**\\n\\n- **Purpose**: Local memory within a thread and range.\\n- **Mode**: `local`\\n- **Access Control**: Access is via the `local` memory allocation and `cudaMemcpyLocal()`.\\n- **Restriction**: Requires device memory allocation and is used in simple thread operations.\\n\\n**Sample Usage:**\\n\\n```c++ [CUDA]\\nsize_t localSize = ...;\\ncudaMalloc(&localMemory, localSize);\\n\\nsize_t copyIndex = 0;\\nlocalMemcpyToDevice(localMemory + copyIndex, localBuffer + copyIndex, localSize, cudaMemcpyDeviceToHost);\\n```\\n\\n---\\n\\n## 📌 **7. Mistral Memory (Mistral Only Memory)**\\n\\n- **Used in GPU programs with pure memory operation targets**, uses `miscalc` to avoid full memory allocation and reduce memory overhead.\\n- **Mode**: `miscalc`\\n- **Access Control**: No host access, data is sent directly to GPU memory.\\n\\n**Example:**\\n\\n```c++ [CUDA]\\n// Send data to GPU using memory targeting\\ncudaMemcpyToDevice(miscalcMemory, dataBuffer, bufferSize, cudaMemcpyMemcpy);\\n```\\n\\n---\\n\\n## 📌 **GPU-Only Memory Types (Device Only, Overlay, Shared Memory, Global Memory, Local Memory)**\\n\\n| Type                  | Mode             | Access Control | Restriction                              | Notes                          |\\n|-----------------------|------------------|----------------|----------------------------------------|-----------------------------------|\\n| Host-Only Memory     | `host`           | Host-Led         | No host access                             | Requires host memory file.        |\\n| Device-Only Memory    | `device`         | No host access   | Direct',\n",
       " 'does_gold_agree_with_original': True,\n",
       " 'best_reference_reward': 0.6113281,\n",
       " 'chosen_reward': 0.6113281,\n",
       " 'rejected_reward': -0.041015625,\n",
       " 'preference_strength': -4.009765625}"
      ]
     },
     "execution_count": 216,
     "metadata": {},
     "output_type": "execute_result"
    }
   ],
   "execution_count": 216
  },
  {
   "metadata": {},
   "cell_type": "code",
   "outputs": [],
   "execution_count": null,
   "source": "",
   "id": "66726ebdc3e18f89"
  }
 ],
 "metadata": {
  "kernelspec": {
   "display_name": "Python 3",
   "language": "python",
   "name": "python3"
  },
  "language_info": {
   "codemirror_mode": {
    "name": "ipython",
    "version": 2
   },
   "file_extension": ".py",
   "mimetype": "text/x-python",
   "name": "python",
   "nbconvert_exporter": "python",
   "pygments_lexer": "ipython2",
   "version": "2.7.6"
  }
 },
 "nbformat": 4,
 "nbformat_minor": 5
}
